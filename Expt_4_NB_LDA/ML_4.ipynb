{
  "nbformat": 4,
  "nbformat_minor": 0,
  "metadata": {
    "colab": {
      "provenance": [],
      "mount_file_id": "1YvmbySyYocA_OJ3rHyr6HtrSEPmuaKkZ",
      "authorship_tag": "ABX9TyNTLdhH5CCd2byiv5kpsKzz",
      "include_colab_link": true
    },
    "kernelspec": {
      "name": "python3",
      "display_name": "Python 3"
    },
    "language_info": {
      "name": "python"
    }
  },
  "cells": [
    {
      "cell_type": "markdown",
      "metadata": {
        "id": "view-in-github",
        "colab_type": "text"
      },
      "source": [
        "<a href=\"https://colab.research.google.com/github/Sruthi-Shivaram/Ml_Minor/blob/main/Expt_4_NB_LDA/ML_4.ipynb\" target=\"_parent\"><img src=\"https://colab.research.google.com/assets/colab-badge.svg\" alt=\"Open In Colab\"/></a>"
      ]
    },
    {
      "cell_type": "markdown",
      "source": [
        "Name: Sruthi Shivaramakrishnan\n",
        "\n",
        "Branch:ETRX\n",
        "\n",
        "UID:2019110059\n",
        "\n",
        "Course: Minor ML"
      ],
      "metadata": {
        "id": "dSwOwN32ONsq"
      }
    },
    {
      "cell_type": "markdown",
      "source": [
        "Objective:  \n",
        "(i) Apply Naive bayes classifier for any dataset given in Examples of data sets for Text analysis and NLP \n",
        "projects.pdf   file given in canvas \n",
        " \n",
        "(ii) Apply and compare Linear Discriminating Analysis with Naive bayes classifiers w.r.t. error, \n",
        "specificity and sensitivity \n",
        " "
      ],
      "metadata": {
        "id": "_1MbxOsXxpki"
      }
    },
    {
      "cell_type": "markdown",
      "source": [
        "Loading the data and performing analysis"
      ],
      "metadata": {
        "id": "S9Kou5fAxvUC"
      }
    },
    {
      "cell_type": "code",
      "execution_count": null,
      "metadata": {
        "id": "EnYi4mREkct8"
      },
      "outputs": [],
      "source": [
        "import pandas as pd\n",
        "import numpy as np\n",
        "import matplotlib.pyplot as plt\n",
        "import seaborn as sns\n",
        "from collections import Counter"
      ]
    },
    {
      "cell_type": "code",
      "source": [
        "data=pd.read_csv('/content/drive/MyDrive/Tweets.csv')\n",
        "data.head()"
      ],
      "metadata": {
        "colab": {
          "base_uri": "https://localhost:8080/",
          "height": 404
        },
        "id": "G2Y7CaJts9gu",
        "outputId": "d6055eb8-dd34-4f2a-bf0f-c09685c8d31e"
      },
      "execution_count": null,
      "outputs": [
        {
          "output_type": "execute_result",
          "data": {
            "text/plain": [
              "       tweet_id airline_sentiment  airline_sentiment_confidence  \\\n",
              "0  5.703061e+17           neutral                        1.0000   \n",
              "1  5.703011e+17          positive                        0.3486   \n",
              "2  5.703011e+17           neutral                        0.6837   \n",
              "3  5.703010e+17          negative                        1.0000   \n",
              "4  5.703008e+17          negative                        1.0000   \n",
              "\n",
              "  negativereason  negativereason_confidence         airline  \\\n",
              "0            NaN                        NaN  Virgin America   \n",
              "1            NaN                     0.0000  Virgin America   \n",
              "2            NaN                        NaN  Virgin America   \n",
              "3     Bad Flight                     0.7033  Virgin America   \n",
              "4     Can't Tell                     1.0000  Virgin America   \n",
              "\n",
              "  airline_sentiment_gold        name negativereason_gold  retweet_count  ...  \\\n",
              "0                    NaN     cairdin                 NaN              0  ...   \n",
              "1                    NaN    jnardino                 NaN              0  ...   \n",
              "2                    NaN  yvonnalynn                 NaN              0  ...   \n",
              "3                    NaN    jnardino                 NaN              0  ...   \n",
              "4                    NaN    jnardino                 NaN              0  ...   \n",
              "\n",
              "  tweet_coord              tweet_created tweet_location  \\\n",
              "0         NaN  2015-02-24 11:35:52 -0800            NaN   \n",
              "1         NaN  2015-02-24 11:15:59 -0800            NaN   \n",
              "2         NaN  2015-02-24 11:15:48 -0800      Lets Play   \n",
              "3         NaN  2015-02-24 11:15:36 -0800            NaN   \n",
              "4         NaN  2015-02-24 11:14:45 -0800            NaN   \n",
              "\n",
              "                user_timezone Unnamed: 15 Unnamed: 16 Unnamed: 17 Unnamed: 18  \\\n",
              "0  Eastern Time (US & Canada)         NaN         NaN         NaN         NaN   \n",
              "1  Pacific Time (US & Canada)         NaN         NaN         NaN         NaN   \n",
              "2  Central Time (US & Canada)         NaN         NaN         NaN         NaN   \n",
              "3  Pacific Time (US & Canada)         NaN         NaN         NaN         NaN   \n",
              "4  Pacific Time (US & Canada)         NaN         NaN         NaN         NaN   \n",
              "\n",
              "  Unnamed: 19 Unnamed: 20  \n",
              "0         NaN         NaN  \n",
              "1         NaN         NaN  \n",
              "2         NaN         NaN  \n",
              "3         NaN         NaN  \n",
              "4         NaN         NaN  \n",
              "\n",
              "[5 rows x 21 columns]"
            ],
            "text/html": [
              "\n",
              "  <div id=\"df-2fb68d4c-e734-437d-bc21-28cc530ae944\">\n",
              "    <div class=\"colab-df-container\">\n",
              "      <div>\n",
              "<style scoped>\n",
              "    .dataframe tbody tr th:only-of-type {\n",
              "        vertical-align: middle;\n",
              "    }\n",
              "\n",
              "    .dataframe tbody tr th {\n",
              "        vertical-align: top;\n",
              "    }\n",
              "\n",
              "    .dataframe thead th {\n",
              "        text-align: right;\n",
              "    }\n",
              "</style>\n",
              "<table border=\"1\" class=\"dataframe\">\n",
              "  <thead>\n",
              "    <tr style=\"text-align: right;\">\n",
              "      <th></th>\n",
              "      <th>tweet_id</th>\n",
              "      <th>airline_sentiment</th>\n",
              "      <th>airline_sentiment_confidence</th>\n",
              "      <th>negativereason</th>\n",
              "      <th>negativereason_confidence</th>\n",
              "      <th>airline</th>\n",
              "      <th>airline_sentiment_gold</th>\n",
              "      <th>name</th>\n",
              "      <th>negativereason_gold</th>\n",
              "      <th>retweet_count</th>\n",
              "      <th>...</th>\n",
              "      <th>tweet_coord</th>\n",
              "      <th>tweet_created</th>\n",
              "      <th>tweet_location</th>\n",
              "      <th>user_timezone</th>\n",
              "      <th>Unnamed: 15</th>\n",
              "      <th>Unnamed: 16</th>\n",
              "      <th>Unnamed: 17</th>\n",
              "      <th>Unnamed: 18</th>\n",
              "      <th>Unnamed: 19</th>\n",
              "      <th>Unnamed: 20</th>\n",
              "    </tr>\n",
              "  </thead>\n",
              "  <tbody>\n",
              "    <tr>\n",
              "      <th>0</th>\n",
              "      <td>5.703061e+17</td>\n",
              "      <td>neutral</td>\n",
              "      <td>1.0000</td>\n",
              "      <td>NaN</td>\n",
              "      <td>NaN</td>\n",
              "      <td>Virgin America</td>\n",
              "      <td>NaN</td>\n",
              "      <td>cairdin</td>\n",
              "      <td>NaN</td>\n",
              "      <td>0</td>\n",
              "      <td>...</td>\n",
              "      <td>NaN</td>\n",
              "      <td>2015-02-24 11:35:52 -0800</td>\n",
              "      <td>NaN</td>\n",
              "      <td>Eastern Time (US &amp; Canada)</td>\n",
              "      <td>NaN</td>\n",
              "      <td>NaN</td>\n",
              "      <td>NaN</td>\n",
              "      <td>NaN</td>\n",
              "      <td>NaN</td>\n",
              "      <td>NaN</td>\n",
              "    </tr>\n",
              "    <tr>\n",
              "      <th>1</th>\n",
              "      <td>5.703011e+17</td>\n",
              "      <td>positive</td>\n",
              "      <td>0.3486</td>\n",
              "      <td>NaN</td>\n",
              "      <td>0.0000</td>\n",
              "      <td>Virgin America</td>\n",
              "      <td>NaN</td>\n",
              "      <td>jnardino</td>\n",
              "      <td>NaN</td>\n",
              "      <td>0</td>\n",
              "      <td>...</td>\n",
              "      <td>NaN</td>\n",
              "      <td>2015-02-24 11:15:59 -0800</td>\n",
              "      <td>NaN</td>\n",
              "      <td>Pacific Time (US &amp; Canada)</td>\n",
              "      <td>NaN</td>\n",
              "      <td>NaN</td>\n",
              "      <td>NaN</td>\n",
              "      <td>NaN</td>\n",
              "      <td>NaN</td>\n",
              "      <td>NaN</td>\n",
              "    </tr>\n",
              "    <tr>\n",
              "      <th>2</th>\n",
              "      <td>5.703011e+17</td>\n",
              "      <td>neutral</td>\n",
              "      <td>0.6837</td>\n",
              "      <td>NaN</td>\n",
              "      <td>NaN</td>\n",
              "      <td>Virgin America</td>\n",
              "      <td>NaN</td>\n",
              "      <td>yvonnalynn</td>\n",
              "      <td>NaN</td>\n",
              "      <td>0</td>\n",
              "      <td>...</td>\n",
              "      <td>NaN</td>\n",
              "      <td>2015-02-24 11:15:48 -0800</td>\n",
              "      <td>Lets Play</td>\n",
              "      <td>Central Time (US &amp; Canada)</td>\n",
              "      <td>NaN</td>\n",
              "      <td>NaN</td>\n",
              "      <td>NaN</td>\n",
              "      <td>NaN</td>\n",
              "      <td>NaN</td>\n",
              "      <td>NaN</td>\n",
              "    </tr>\n",
              "    <tr>\n",
              "      <th>3</th>\n",
              "      <td>5.703010e+17</td>\n",
              "      <td>negative</td>\n",
              "      <td>1.0000</td>\n",
              "      <td>Bad Flight</td>\n",
              "      <td>0.7033</td>\n",
              "      <td>Virgin America</td>\n",
              "      <td>NaN</td>\n",
              "      <td>jnardino</td>\n",
              "      <td>NaN</td>\n",
              "      <td>0</td>\n",
              "      <td>...</td>\n",
              "      <td>NaN</td>\n",
              "      <td>2015-02-24 11:15:36 -0800</td>\n",
              "      <td>NaN</td>\n",
              "      <td>Pacific Time (US &amp; Canada)</td>\n",
              "      <td>NaN</td>\n",
              "      <td>NaN</td>\n",
              "      <td>NaN</td>\n",
              "      <td>NaN</td>\n",
              "      <td>NaN</td>\n",
              "      <td>NaN</td>\n",
              "    </tr>\n",
              "    <tr>\n",
              "      <th>4</th>\n",
              "      <td>5.703008e+17</td>\n",
              "      <td>negative</td>\n",
              "      <td>1.0000</td>\n",
              "      <td>Can't Tell</td>\n",
              "      <td>1.0000</td>\n",
              "      <td>Virgin America</td>\n",
              "      <td>NaN</td>\n",
              "      <td>jnardino</td>\n",
              "      <td>NaN</td>\n",
              "      <td>0</td>\n",
              "      <td>...</td>\n",
              "      <td>NaN</td>\n",
              "      <td>2015-02-24 11:14:45 -0800</td>\n",
              "      <td>NaN</td>\n",
              "      <td>Pacific Time (US &amp; Canada)</td>\n",
              "      <td>NaN</td>\n",
              "      <td>NaN</td>\n",
              "      <td>NaN</td>\n",
              "      <td>NaN</td>\n",
              "      <td>NaN</td>\n",
              "      <td>NaN</td>\n",
              "    </tr>\n",
              "  </tbody>\n",
              "</table>\n",
              "<p>5 rows × 21 columns</p>\n",
              "</div>\n",
              "      <button class=\"colab-df-convert\" onclick=\"convertToInteractive('df-2fb68d4c-e734-437d-bc21-28cc530ae944')\"\n",
              "              title=\"Convert this dataframe to an interactive table.\"\n",
              "              style=\"display:none;\">\n",
              "        \n",
              "  <svg xmlns=\"http://www.w3.org/2000/svg\" height=\"24px\"viewBox=\"0 0 24 24\"\n",
              "       width=\"24px\">\n",
              "    <path d=\"M0 0h24v24H0V0z\" fill=\"none\"/>\n",
              "    <path d=\"M18.56 5.44l.94 2.06.94-2.06 2.06-.94-2.06-.94-.94-2.06-.94 2.06-2.06.94zm-11 1L8.5 8.5l.94-2.06 2.06-.94-2.06-.94L8.5 2.5l-.94 2.06-2.06.94zm10 10l.94 2.06.94-2.06 2.06-.94-2.06-.94-.94-2.06-.94 2.06-2.06.94z\"/><path d=\"M17.41 7.96l-1.37-1.37c-.4-.4-.92-.59-1.43-.59-.52 0-1.04.2-1.43.59L10.3 9.45l-7.72 7.72c-.78.78-.78 2.05 0 2.83L4 21.41c.39.39.9.59 1.41.59.51 0 1.02-.2 1.41-.59l7.78-7.78 2.81-2.81c.8-.78.8-2.07 0-2.86zM5.41 20L4 18.59l7.72-7.72 1.47 1.35L5.41 20z\"/>\n",
              "  </svg>\n",
              "      </button>\n",
              "      \n",
              "  <style>\n",
              "    .colab-df-container {\n",
              "      display:flex;\n",
              "      flex-wrap:wrap;\n",
              "      gap: 12px;\n",
              "    }\n",
              "\n",
              "    .colab-df-convert {\n",
              "      background-color: #E8F0FE;\n",
              "      border: none;\n",
              "      border-radius: 50%;\n",
              "      cursor: pointer;\n",
              "      display: none;\n",
              "      fill: #1967D2;\n",
              "      height: 32px;\n",
              "      padding: 0 0 0 0;\n",
              "      width: 32px;\n",
              "    }\n",
              "\n",
              "    .colab-df-convert:hover {\n",
              "      background-color: #E2EBFA;\n",
              "      box-shadow: 0px 1px 2px rgba(60, 64, 67, 0.3), 0px 1px 3px 1px rgba(60, 64, 67, 0.15);\n",
              "      fill: #174EA6;\n",
              "    }\n",
              "\n",
              "    [theme=dark] .colab-df-convert {\n",
              "      background-color: #3B4455;\n",
              "      fill: #D2E3FC;\n",
              "    }\n",
              "\n",
              "    [theme=dark] .colab-df-convert:hover {\n",
              "      background-color: #434B5C;\n",
              "      box-shadow: 0px 1px 3px 1px rgba(0, 0, 0, 0.15);\n",
              "      filter: drop-shadow(0px 1px 2px rgba(0, 0, 0, 0.3));\n",
              "      fill: #FFFFFF;\n",
              "    }\n",
              "  </style>\n",
              "\n",
              "      <script>\n",
              "        const buttonEl =\n",
              "          document.querySelector('#df-2fb68d4c-e734-437d-bc21-28cc530ae944 button.colab-df-convert');\n",
              "        buttonEl.style.display =\n",
              "          google.colab.kernel.accessAllowed ? 'block' : 'none';\n",
              "\n",
              "        async function convertToInteractive(key) {\n",
              "          const element = document.querySelector('#df-2fb68d4c-e734-437d-bc21-28cc530ae944');\n",
              "          const dataTable =\n",
              "            await google.colab.kernel.invokeFunction('convertToInteractive',\n",
              "                                                     [key], {});\n",
              "          if (!dataTable) return;\n",
              "\n",
              "          const docLinkHtml = 'Like what you see? Visit the ' +\n",
              "            '<a target=\"_blank\" href=https://colab.research.google.com/notebooks/data_table.ipynb>data table notebook</a>'\n",
              "            + ' to learn more about interactive tables.';\n",
              "          element.innerHTML = '';\n",
              "          dataTable['output_type'] = 'display_data';\n",
              "          await google.colab.output.renderOutput(dataTable, element);\n",
              "          const docLink = document.createElement('div');\n",
              "          docLink.innerHTML = docLinkHtml;\n",
              "          element.appendChild(docLink);\n",
              "        }\n",
              "      </script>\n",
              "    </div>\n",
              "  </div>\n",
              "  "
            ]
          },
          "metadata": {},
          "execution_count": 2
        }
      ]
    },
    {
      "cell_type": "code",
      "source": [
        "data.describe()"
      ],
      "metadata": {
        "colab": {
          "base_uri": "https://localhost:8080/",
          "height": 300
        },
        "id": "q_IqCgF_tHdY",
        "outputId": "01aef476-dc10-4014-deb8-3640e4c684ff"
      },
      "execution_count": null,
      "outputs": [
        {
          "output_type": "execute_result",
          "data": {
            "text/plain": [
              "           tweet_id  airline_sentiment_confidence  negativereason_confidence  \\\n",
              "count  1.464000e+04                  14640.000000               10522.000000   \n",
              "mean   5.692184e+17                      0.900169                   0.638298   \n",
              "std    7.791112e+14                      0.162830                   0.330440   \n",
              "min    5.675883e+17                      0.335000                   0.000000   \n",
              "25%    5.685592e+17                      0.692300                   0.360600   \n",
              "50%    5.694779e+17                      1.000000                   0.670600   \n",
              "75%    5.698905e+17                      1.000000                   1.000000   \n",
              "max    5.703106e+17                      1.000000                   1.000000   \n",
              "\n",
              "       retweet_count  \n",
              "count   14640.000000  \n",
              "mean        0.082650  \n",
              "std         0.745778  \n",
              "min         0.000000  \n",
              "25%         0.000000  \n",
              "50%         0.000000  \n",
              "75%         0.000000  \n",
              "max        44.000000  "
            ],
            "text/html": [
              "\n",
              "  <div id=\"df-630bde70-01c6-474f-86f8-85196272c503\">\n",
              "    <div class=\"colab-df-container\">\n",
              "      <div>\n",
              "<style scoped>\n",
              "    .dataframe tbody tr th:only-of-type {\n",
              "        vertical-align: middle;\n",
              "    }\n",
              "\n",
              "    .dataframe tbody tr th {\n",
              "        vertical-align: top;\n",
              "    }\n",
              "\n",
              "    .dataframe thead th {\n",
              "        text-align: right;\n",
              "    }\n",
              "</style>\n",
              "<table border=\"1\" class=\"dataframe\">\n",
              "  <thead>\n",
              "    <tr style=\"text-align: right;\">\n",
              "      <th></th>\n",
              "      <th>tweet_id</th>\n",
              "      <th>airline_sentiment_confidence</th>\n",
              "      <th>negativereason_confidence</th>\n",
              "      <th>retweet_count</th>\n",
              "    </tr>\n",
              "  </thead>\n",
              "  <tbody>\n",
              "    <tr>\n",
              "      <th>count</th>\n",
              "      <td>1.464000e+04</td>\n",
              "      <td>14640.000000</td>\n",
              "      <td>10522.000000</td>\n",
              "      <td>14640.000000</td>\n",
              "    </tr>\n",
              "    <tr>\n",
              "      <th>mean</th>\n",
              "      <td>5.692184e+17</td>\n",
              "      <td>0.900169</td>\n",
              "      <td>0.638298</td>\n",
              "      <td>0.082650</td>\n",
              "    </tr>\n",
              "    <tr>\n",
              "      <th>std</th>\n",
              "      <td>7.791112e+14</td>\n",
              "      <td>0.162830</td>\n",
              "      <td>0.330440</td>\n",
              "      <td>0.745778</td>\n",
              "    </tr>\n",
              "    <tr>\n",
              "      <th>min</th>\n",
              "      <td>5.675883e+17</td>\n",
              "      <td>0.335000</td>\n",
              "      <td>0.000000</td>\n",
              "      <td>0.000000</td>\n",
              "    </tr>\n",
              "    <tr>\n",
              "      <th>25%</th>\n",
              "      <td>5.685592e+17</td>\n",
              "      <td>0.692300</td>\n",
              "      <td>0.360600</td>\n",
              "      <td>0.000000</td>\n",
              "    </tr>\n",
              "    <tr>\n",
              "      <th>50%</th>\n",
              "      <td>5.694779e+17</td>\n",
              "      <td>1.000000</td>\n",
              "      <td>0.670600</td>\n",
              "      <td>0.000000</td>\n",
              "    </tr>\n",
              "    <tr>\n",
              "      <th>75%</th>\n",
              "      <td>5.698905e+17</td>\n",
              "      <td>1.000000</td>\n",
              "      <td>1.000000</td>\n",
              "      <td>0.000000</td>\n",
              "    </tr>\n",
              "    <tr>\n",
              "      <th>max</th>\n",
              "      <td>5.703106e+17</td>\n",
              "      <td>1.000000</td>\n",
              "      <td>1.000000</td>\n",
              "      <td>44.000000</td>\n",
              "    </tr>\n",
              "  </tbody>\n",
              "</table>\n",
              "</div>\n",
              "      <button class=\"colab-df-convert\" onclick=\"convertToInteractive('df-630bde70-01c6-474f-86f8-85196272c503')\"\n",
              "              title=\"Convert this dataframe to an interactive table.\"\n",
              "              style=\"display:none;\">\n",
              "        \n",
              "  <svg xmlns=\"http://www.w3.org/2000/svg\" height=\"24px\"viewBox=\"0 0 24 24\"\n",
              "       width=\"24px\">\n",
              "    <path d=\"M0 0h24v24H0V0z\" fill=\"none\"/>\n",
              "    <path d=\"M18.56 5.44l.94 2.06.94-2.06 2.06-.94-2.06-.94-.94-2.06-.94 2.06-2.06.94zm-11 1L8.5 8.5l.94-2.06 2.06-.94-2.06-.94L8.5 2.5l-.94 2.06-2.06.94zm10 10l.94 2.06.94-2.06 2.06-.94-2.06-.94-.94-2.06-.94 2.06-2.06.94z\"/><path d=\"M17.41 7.96l-1.37-1.37c-.4-.4-.92-.59-1.43-.59-.52 0-1.04.2-1.43.59L10.3 9.45l-7.72 7.72c-.78.78-.78 2.05 0 2.83L4 21.41c.39.39.9.59 1.41.59.51 0 1.02-.2 1.41-.59l7.78-7.78 2.81-2.81c.8-.78.8-2.07 0-2.86zM5.41 20L4 18.59l7.72-7.72 1.47 1.35L5.41 20z\"/>\n",
              "  </svg>\n",
              "      </button>\n",
              "      \n",
              "  <style>\n",
              "    .colab-df-container {\n",
              "      display:flex;\n",
              "      flex-wrap:wrap;\n",
              "      gap: 12px;\n",
              "    }\n",
              "\n",
              "    .colab-df-convert {\n",
              "      background-color: #E8F0FE;\n",
              "      border: none;\n",
              "      border-radius: 50%;\n",
              "      cursor: pointer;\n",
              "      display: none;\n",
              "      fill: #1967D2;\n",
              "      height: 32px;\n",
              "      padding: 0 0 0 0;\n",
              "      width: 32px;\n",
              "    }\n",
              "\n",
              "    .colab-df-convert:hover {\n",
              "      background-color: #E2EBFA;\n",
              "      box-shadow: 0px 1px 2px rgba(60, 64, 67, 0.3), 0px 1px 3px 1px rgba(60, 64, 67, 0.15);\n",
              "      fill: #174EA6;\n",
              "    }\n",
              "\n",
              "    [theme=dark] .colab-df-convert {\n",
              "      background-color: #3B4455;\n",
              "      fill: #D2E3FC;\n",
              "    }\n",
              "\n",
              "    [theme=dark] .colab-df-convert:hover {\n",
              "      background-color: #434B5C;\n",
              "      box-shadow: 0px 1px 3px 1px rgba(0, 0, 0, 0.15);\n",
              "      filter: drop-shadow(0px 1px 2px rgba(0, 0, 0, 0.3));\n",
              "      fill: #FFFFFF;\n",
              "    }\n",
              "  </style>\n",
              "\n",
              "      <script>\n",
              "        const buttonEl =\n",
              "          document.querySelector('#df-630bde70-01c6-474f-86f8-85196272c503 button.colab-df-convert');\n",
              "        buttonEl.style.display =\n",
              "          google.colab.kernel.accessAllowed ? 'block' : 'none';\n",
              "\n",
              "        async function convertToInteractive(key) {\n",
              "          const element = document.querySelector('#df-630bde70-01c6-474f-86f8-85196272c503');\n",
              "          const dataTable =\n",
              "            await google.colab.kernel.invokeFunction('convertToInteractive',\n",
              "                                                     [key], {});\n",
              "          if (!dataTable) return;\n",
              "\n",
              "          const docLinkHtml = 'Like what you see? Visit the ' +\n",
              "            '<a target=\"_blank\" href=https://colab.research.google.com/notebooks/data_table.ipynb>data table notebook</a>'\n",
              "            + ' to learn more about interactive tables.';\n",
              "          element.innerHTML = '';\n",
              "          dataTable['output_type'] = 'display_data';\n",
              "          await google.colab.output.renderOutput(dataTable, element);\n",
              "          const docLink = document.createElement('div');\n",
              "          docLink.innerHTML = docLinkHtml;\n",
              "          element.appendChild(docLink);\n",
              "        }\n",
              "      </script>\n",
              "    </div>\n",
              "  </div>\n",
              "  "
            ]
          },
          "metadata": {},
          "execution_count": 3
        }
      ]
    },
    {
      "cell_type": "code",
      "source": [
        "data.info()\n"
      ],
      "metadata": {
        "colab": {
          "base_uri": "https://localhost:8080/"
        },
        "id": "zf3o7j4EtVlR",
        "outputId": "1ec8fd1d-10e8-4680-c0e4-3b9bc856b2ec"
      },
      "execution_count": null,
      "outputs": [
        {
          "output_type": "stream",
          "name": "stdout",
          "text": [
            "<class 'pandas.core.frame.DataFrame'>\n",
            "RangeIndex: 14640 entries, 0 to 14639\n",
            "Data columns (total 21 columns):\n",
            " #   Column                        Non-Null Count  Dtype  \n",
            "---  ------                        --------------  -----  \n",
            " 0   tweet_id                      14640 non-null  float64\n",
            " 1   airline_sentiment             14640 non-null  object \n",
            " 2   airline_sentiment_confidence  14640 non-null  float64\n",
            " 3   negativereason                9178 non-null   object \n",
            " 4   negativereason_confidence     10522 non-null  float64\n",
            " 5   airline                       14640 non-null  object \n",
            " 6   airline_sentiment_gold        40 non-null     object \n",
            " 7   name                          14640 non-null  object \n",
            " 8   negativereason_gold           32 non-null     object \n",
            " 9   retweet_count                 14640 non-null  int64  \n",
            " 10  text                          14640 non-null  object \n",
            " 11  tweet_coord                   1533 non-null   object \n",
            " 12  tweet_created                 14178 non-null  object \n",
            " 13  tweet_location                10017 non-null  object \n",
            " 14  user_timezone                 9845 non-null   object \n",
            " 15  Unnamed: 15                   398 non-null    object \n",
            " 16  Unnamed: 16                   39 non-null     object \n",
            " 17  Unnamed: 17                   8 non-null      object \n",
            " 18  Unnamed: 18                   4 non-null      object \n",
            " 19  Unnamed: 19                   3 non-null      object \n",
            " 20  Unnamed: 20                   1 non-null      object \n",
            "dtypes: float64(3), int64(1), object(17)\n",
            "memory usage: 2.3+ MB\n"
          ]
        }
      ]
    },
    {
      "cell_type": "code",
      "source": [
        "data.isnull().sum()"
      ],
      "metadata": {
        "colab": {
          "base_uri": "https://localhost:8080/"
        },
        "id": "hWA-qjRdtfvW",
        "outputId": "388f17eb-e22b-45f1-e22a-50fc14781edd"
      },
      "execution_count": null,
      "outputs": [
        {
          "output_type": "execute_result",
          "data": {
            "text/plain": [
              "tweet_id                            0\n",
              "airline_sentiment                   0\n",
              "airline_sentiment_confidence        0\n",
              "negativereason                   5462\n",
              "negativereason_confidence        4118\n",
              "airline                             0\n",
              "airline_sentiment_gold          14600\n",
              "name                                0\n",
              "negativereason_gold             14608\n",
              "retweet_count                       0\n",
              "text                                0\n",
              "tweet_coord                     13107\n",
              "tweet_created                     462\n",
              "tweet_location                   4623\n",
              "user_timezone                    4795\n",
              "Unnamed: 15                     14242\n",
              "Unnamed: 16                     14601\n",
              "Unnamed: 17                     14632\n",
              "Unnamed: 18                     14636\n",
              "Unnamed: 19                     14637\n",
              "Unnamed: 20                     14639\n",
              "dtype: int64"
            ]
          },
          "metadata": {},
          "execution_count": 5
        }
      ]
    },
    {
      "cell_type": "code",
      "source": [
        "data.drop(['Unnamed: 15','Unnamed: 16','Unnamed: 17','Unnamed: 18','Unnamed: 19','Unnamed: 20','airline_sentiment_gold','negativereason_gold'], axis=1)"
      ],
      "metadata": {
        "colab": {
          "base_uri": "https://localhost:8080/",
          "height": 973
        },
        "id": "ERQlca5VvcUc",
        "outputId": "0537e5ef-6981-4d92-a93e-ede7e38b708f"
      },
      "execution_count": null,
      "outputs": [
        {
          "output_type": "execute_result",
          "data": {
            "text/plain": [
              "           tweet_id airline_sentiment  airline_sentiment_confidence  \\\n",
              "0      5.703061e+17           neutral                        1.0000   \n",
              "1      5.703011e+17          positive                        0.3486   \n",
              "2      5.703011e+17           neutral                        0.6837   \n",
              "3      5.703010e+17          negative                        1.0000   \n",
              "4      5.703008e+17          negative                        1.0000   \n",
              "...             ...               ...                           ...   \n",
              "14635  5.695877e+17          positive                        0.3487   \n",
              "14636  5.695874e+17          negative                        1.0000   \n",
              "14637  5.695872e+17           neutral                        1.0000   \n",
              "14638  5.695872e+17          negative                        1.0000   \n",
              "14639  5.695871e+17           neutral                        0.6771   \n",
              "\n",
              "               negativereason  negativereason_confidence         airline  \\\n",
              "0                         NaN                        NaN  Virgin America   \n",
              "1                         NaN                     0.0000  Virgin America   \n",
              "2                         NaN                        NaN  Virgin America   \n",
              "3                  Bad Flight                     0.7033  Virgin America   \n",
              "4                  Can't Tell                     1.0000  Virgin America   \n",
              "...                       ...                        ...             ...   \n",
              "14635                     NaN                     0.0000        American   \n",
              "14636  Customer Service Issue                     1.0000        American   \n",
              "14637                     NaN                        NaN        American   \n",
              "14638  Customer Service Issue                     0.6659        American   \n",
              "14639                     NaN                     0.0000        American   \n",
              "\n",
              "                  name  retweet_count  \\\n",
              "0              cairdin              0   \n",
              "1             jnardino              0   \n",
              "2           yvonnalynn              0   \n",
              "3             jnardino              0   \n",
              "4             jnardino              0   \n",
              "...                ...            ...   \n",
              "14635  KristenReenders              0   \n",
              "14636         itsropes              0   \n",
              "14637         sanyabun              0   \n",
              "14638       SraJackson              0   \n",
              "14639        daviddtwu              0   \n",
              "\n",
              "                                                    text tweet_coord  \\\n",
              "0                    @VirginAmerica What @dhepburn said.         NaN   \n",
              "1      @VirginAmerica plus you've added commercials t...         NaN   \n",
              "2      @VirginAmerica I didn't today... Must mean I n...         NaN   \n",
              "3      @VirginAmerica it's really aggressive to blast...         NaN   \n",
              "4      @VirginAmerica and it's a really big bad thing...         NaN   \n",
              "...                                                  ...         ...   \n",
              "14635  @AmericanAir thank you we got on a different f...         NaN   \n",
              "14636  @AmericanAir leaving over 20 minutes Late Flig...         NaN   \n",
              "14637  @AmericanAir Please bring American Airlines to...         NaN   \n",
              "14638  @AmericanAir you have my money, you change my ...         NaN   \n",
              "14639  @AmericanAir we have 8 ppl so we need 2 know h...         NaN   \n",
              "\n",
              "                   tweet_created tweet_location               user_timezone  \n",
              "0      2015-02-24 11:35:52 -0800            NaN  Eastern Time (US & Canada)  \n",
              "1      2015-02-24 11:15:59 -0800            NaN  Pacific Time (US & Canada)  \n",
              "2      2015-02-24 11:15:48 -0800      Lets Play  Central Time (US & Canada)  \n",
              "3      2015-02-24 11:15:36 -0800            NaN  Pacific Time (US & Canada)  \n",
              "4      2015-02-24 11:14:45 -0800            NaN  Pacific Time (US & Canada)  \n",
              "...                          ...            ...                         ...  \n",
              "14635  2015-02-22 12:01:01 -0800            NaN                         NaN  \n",
              "14636  2015-02-22 11:59:46 -0800          Texas                         NaN  \n",
              "14637  2015-02-22 11:59:15 -0800  Nigeria,lagos                         NaN  \n",
              "14638  2015-02-22 11:59:02 -0800     New Jersey  Eastern Time (US & Canada)  \n",
              "14639  2015-02-22 11:58:51 -0800     dallas, TX                         NaN  \n",
              "\n",
              "[14640 rows x 13 columns]"
            ],
            "text/html": [
              "\n",
              "  <div id=\"df-89402ecf-6bdd-4a7e-9bf1-e030b6c36ba1\">\n",
              "    <div class=\"colab-df-container\">\n",
              "      <div>\n",
              "<style scoped>\n",
              "    .dataframe tbody tr th:only-of-type {\n",
              "        vertical-align: middle;\n",
              "    }\n",
              "\n",
              "    .dataframe tbody tr th {\n",
              "        vertical-align: top;\n",
              "    }\n",
              "\n",
              "    .dataframe thead th {\n",
              "        text-align: right;\n",
              "    }\n",
              "</style>\n",
              "<table border=\"1\" class=\"dataframe\">\n",
              "  <thead>\n",
              "    <tr style=\"text-align: right;\">\n",
              "      <th></th>\n",
              "      <th>tweet_id</th>\n",
              "      <th>airline_sentiment</th>\n",
              "      <th>airline_sentiment_confidence</th>\n",
              "      <th>negativereason</th>\n",
              "      <th>negativereason_confidence</th>\n",
              "      <th>airline</th>\n",
              "      <th>name</th>\n",
              "      <th>retweet_count</th>\n",
              "      <th>text</th>\n",
              "      <th>tweet_coord</th>\n",
              "      <th>tweet_created</th>\n",
              "      <th>tweet_location</th>\n",
              "      <th>user_timezone</th>\n",
              "    </tr>\n",
              "  </thead>\n",
              "  <tbody>\n",
              "    <tr>\n",
              "      <th>0</th>\n",
              "      <td>5.703061e+17</td>\n",
              "      <td>neutral</td>\n",
              "      <td>1.0000</td>\n",
              "      <td>NaN</td>\n",
              "      <td>NaN</td>\n",
              "      <td>Virgin America</td>\n",
              "      <td>cairdin</td>\n",
              "      <td>0</td>\n",
              "      <td>@VirginAmerica What @dhepburn said.</td>\n",
              "      <td>NaN</td>\n",
              "      <td>2015-02-24 11:35:52 -0800</td>\n",
              "      <td>NaN</td>\n",
              "      <td>Eastern Time (US &amp; Canada)</td>\n",
              "    </tr>\n",
              "    <tr>\n",
              "      <th>1</th>\n",
              "      <td>5.703011e+17</td>\n",
              "      <td>positive</td>\n",
              "      <td>0.3486</td>\n",
              "      <td>NaN</td>\n",
              "      <td>0.0000</td>\n",
              "      <td>Virgin America</td>\n",
              "      <td>jnardino</td>\n",
              "      <td>0</td>\n",
              "      <td>@VirginAmerica plus you've added commercials t...</td>\n",
              "      <td>NaN</td>\n",
              "      <td>2015-02-24 11:15:59 -0800</td>\n",
              "      <td>NaN</td>\n",
              "      <td>Pacific Time (US &amp; Canada)</td>\n",
              "    </tr>\n",
              "    <tr>\n",
              "      <th>2</th>\n",
              "      <td>5.703011e+17</td>\n",
              "      <td>neutral</td>\n",
              "      <td>0.6837</td>\n",
              "      <td>NaN</td>\n",
              "      <td>NaN</td>\n",
              "      <td>Virgin America</td>\n",
              "      <td>yvonnalynn</td>\n",
              "      <td>0</td>\n",
              "      <td>@VirginAmerica I didn't today... Must mean I n...</td>\n",
              "      <td>NaN</td>\n",
              "      <td>2015-02-24 11:15:48 -0800</td>\n",
              "      <td>Lets Play</td>\n",
              "      <td>Central Time (US &amp; Canada)</td>\n",
              "    </tr>\n",
              "    <tr>\n",
              "      <th>3</th>\n",
              "      <td>5.703010e+17</td>\n",
              "      <td>negative</td>\n",
              "      <td>1.0000</td>\n",
              "      <td>Bad Flight</td>\n",
              "      <td>0.7033</td>\n",
              "      <td>Virgin America</td>\n",
              "      <td>jnardino</td>\n",
              "      <td>0</td>\n",
              "      <td>@VirginAmerica it's really aggressive to blast...</td>\n",
              "      <td>NaN</td>\n",
              "      <td>2015-02-24 11:15:36 -0800</td>\n",
              "      <td>NaN</td>\n",
              "      <td>Pacific Time (US &amp; Canada)</td>\n",
              "    </tr>\n",
              "    <tr>\n",
              "      <th>4</th>\n",
              "      <td>5.703008e+17</td>\n",
              "      <td>negative</td>\n",
              "      <td>1.0000</td>\n",
              "      <td>Can't Tell</td>\n",
              "      <td>1.0000</td>\n",
              "      <td>Virgin America</td>\n",
              "      <td>jnardino</td>\n",
              "      <td>0</td>\n",
              "      <td>@VirginAmerica and it's a really big bad thing...</td>\n",
              "      <td>NaN</td>\n",
              "      <td>2015-02-24 11:14:45 -0800</td>\n",
              "      <td>NaN</td>\n",
              "      <td>Pacific Time (US &amp; Canada)</td>\n",
              "    </tr>\n",
              "    <tr>\n",
              "      <th>...</th>\n",
              "      <td>...</td>\n",
              "      <td>...</td>\n",
              "      <td>...</td>\n",
              "      <td>...</td>\n",
              "      <td>...</td>\n",
              "      <td>...</td>\n",
              "      <td>...</td>\n",
              "      <td>...</td>\n",
              "      <td>...</td>\n",
              "      <td>...</td>\n",
              "      <td>...</td>\n",
              "      <td>...</td>\n",
              "      <td>...</td>\n",
              "    </tr>\n",
              "    <tr>\n",
              "      <th>14635</th>\n",
              "      <td>5.695877e+17</td>\n",
              "      <td>positive</td>\n",
              "      <td>0.3487</td>\n",
              "      <td>NaN</td>\n",
              "      <td>0.0000</td>\n",
              "      <td>American</td>\n",
              "      <td>KristenReenders</td>\n",
              "      <td>0</td>\n",
              "      <td>@AmericanAir thank you we got on a different f...</td>\n",
              "      <td>NaN</td>\n",
              "      <td>2015-02-22 12:01:01 -0800</td>\n",
              "      <td>NaN</td>\n",
              "      <td>NaN</td>\n",
              "    </tr>\n",
              "    <tr>\n",
              "      <th>14636</th>\n",
              "      <td>5.695874e+17</td>\n",
              "      <td>negative</td>\n",
              "      <td>1.0000</td>\n",
              "      <td>Customer Service Issue</td>\n",
              "      <td>1.0000</td>\n",
              "      <td>American</td>\n",
              "      <td>itsropes</td>\n",
              "      <td>0</td>\n",
              "      <td>@AmericanAir leaving over 20 minutes Late Flig...</td>\n",
              "      <td>NaN</td>\n",
              "      <td>2015-02-22 11:59:46 -0800</td>\n",
              "      <td>Texas</td>\n",
              "      <td>NaN</td>\n",
              "    </tr>\n",
              "    <tr>\n",
              "      <th>14637</th>\n",
              "      <td>5.695872e+17</td>\n",
              "      <td>neutral</td>\n",
              "      <td>1.0000</td>\n",
              "      <td>NaN</td>\n",
              "      <td>NaN</td>\n",
              "      <td>American</td>\n",
              "      <td>sanyabun</td>\n",
              "      <td>0</td>\n",
              "      <td>@AmericanAir Please bring American Airlines to...</td>\n",
              "      <td>NaN</td>\n",
              "      <td>2015-02-22 11:59:15 -0800</td>\n",
              "      <td>Nigeria,lagos</td>\n",
              "      <td>NaN</td>\n",
              "    </tr>\n",
              "    <tr>\n",
              "      <th>14638</th>\n",
              "      <td>5.695872e+17</td>\n",
              "      <td>negative</td>\n",
              "      <td>1.0000</td>\n",
              "      <td>Customer Service Issue</td>\n",
              "      <td>0.6659</td>\n",
              "      <td>American</td>\n",
              "      <td>SraJackson</td>\n",
              "      <td>0</td>\n",
              "      <td>@AmericanAir you have my money, you change my ...</td>\n",
              "      <td>NaN</td>\n",
              "      <td>2015-02-22 11:59:02 -0800</td>\n",
              "      <td>New Jersey</td>\n",
              "      <td>Eastern Time (US &amp; Canada)</td>\n",
              "    </tr>\n",
              "    <tr>\n",
              "      <th>14639</th>\n",
              "      <td>5.695871e+17</td>\n",
              "      <td>neutral</td>\n",
              "      <td>0.6771</td>\n",
              "      <td>NaN</td>\n",
              "      <td>0.0000</td>\n",
              "      <td>American</td>\n",
              "      <td>daviddtwu</td>\n",
              "      <td>0</td>\n",
              "      <td>@AmericanAir we have 8 ppl so we need 2 know h...</td>\n",
              "      <td>NaN</td>\n",
              "      <td>2015-02-22 11:58:51 -0800</td>\n",
              "      <td>dallas, TX</td>\n",
              "      <td>NaN</td>\n",
              "    </tr>\n",
              "  </tbody>\n",
              "</table>\n",
              "<p>14640 rows × 13 columns</p>\n",
              "</div>\n",
              "      <button class=\"colab-df-convert\" onclick=\"convertToInteractive('df-89402ecf-6bdd-4a7e-9bf1-e030b6c36ba1')\"\n",
              "              title=\"Convert this dataframe to an interactive table.\"\n",
              "              style=\"display:none;\">\n",
              "        \n",
              "  <svg xmlns=\"http://www.w3.org/2000/svg\" height=\"24px\"viewBox=\"0 0 24 24\"\n",
              "       width=\"24px\">\n",
              "    <path d=\"M0 0h24v24H0V0z\" fill=\"none\"/>\n",
              "    <path d=\"M18.56 5.44l.94 2.06.94-2.06 2.06-.94-2.06-.94-.94-2.06-.94 2.06-2.06.94zm-11 1L8.5 8.5l.94-2.06 2.06-.94-2.06-.94L8.5 2.5l-.94 2.06-2.06.94zm10 10l.94 2.06.94-2.06 2.06-.94-2.06-.94-.94-2.06-.94 2.06-2.06.94z\"/><path d=\"M17.41 7.96l-1.37-1.37c-.4-.4-.92-.59-1.43-.59-.52 0-1.04.2-1.43.59L10.3 9.45l-7.72 7.72c-.78.78-.78 2.05 0 2.83L4 21.41c.39.39.9.59 1.41.59.51 0 1.02-.2 1.41-.59l7.78-7.78 2.81-2.81c.8-.78.8-2.07 0-2.86zM5.41 20L4 18.59l7.72-7.72 1.47 1.35L5.41 20z\"/>\n",
              "  </svg>\n",
              "      </button>\n",
              "      \n",
              "  <style>\n",
              "    .colab-df-container {\n",
              "      display:flex;\n",
              "      flex-wrap:wrap;\n",
              "      gap: 12px;\n",
              "    }\n",
              "\n",
              "    .colab-df-convert {\n",
              "      background-color: #E8F0FE;\n",
              "      border: none;\n",
              "      border-radius: 50%;\n",
              "      cursor: pointer;\n",
              "      display: none;\n",
              "      fill: #1967D2;\n",
              "      height: 32px;\n",
              "      padding: 0 0 0 0;\n",
              "      width: 32px;\n",
              "    }\n",
              "\n",
              "    .colab-df-convert:hover {\n",
              "      background-color: #E2EBFA;\n",
              "      box-shadow: 0px 1px 2px rgba(60, 64, 67, 0.3), 0px 1px 3px 1px rgba(60, 64, 67, 0.15);\n",
              "      fill: #174EA6;\n",
              "    }\n",
              "\n",
              "    [theme=dark] .colab-df-convert {\n",
              "      background-color: #3B4455;\n",
              "      fill: #D2E3FC;\n",
              "    }\n",
              "\n",
              "    [theme=dark] .colab-df-convert:hover {\n",
              "      background-color: #434B5C;\n",
              "      box-shadow: 0px 1px 3px 1px rgba(0, 0, 0, 0.15);\n",
              "      filter: drop-shadow(0px 1px 2px rgba(0, 0, 0, 0.3));\n",
              "      fill: #FFFFFF;\n",
              "    }\n",
              "  </style>\n",
              "\n",
              "      <script>\n",
              "        const buttonEl =\n",
              "          document.querySelector('#df-89402ecf-6bdd-4a7e-9bf1-e030b6c36ba1 button.colab-df-convert');\n",
              "        buttonEl.style.display =\n",
              "          google.colab.kernel.accessAllowed ? 'block' : 'none';\n",
              "\n",
              "        async function convertToInteractive(key) {\n",
              "          const element = document.querySelector('#df-89402ecf-6bdd-4a7e-9bf1-e030b6c36ba1');\n",
              "          const dataTable =\n",
              "            await google.colab.kernel.invokeFunction('convertToInteractive',\n",
              "                                                     [key], {});\n",
              "          if (!dataTable) return;\n",
              "\n",
              "          const docLinkHtml = 'Like what you see? Visit the ' +\n",
              "            '<a target=\"_blank\" href=https://colab.research.google.com/notebooks/data_table.ipynb>data table notebook</a>'\n",
              "            + ' to learn more about interactive tables.';\n",
              "          element.innerHTML = '';\n",
              "          dataTable['output_type'] = 'display_data';\n",
              "          await google.colab.output.renderOutput(dataTable, element);\n",
              "          const docLink = document.createElement('div');\n",
              "          docLink.innerHTML = docLinkHtml;\n",
              "          element.appendChild(docLink);\n",
              "        }\n",
              "      </script>\n",
              "    </div>\n",
              "  </div>\n",
              "  "
            ]
          },
          "metadata": {},
          "execution_count": 6
        }
      ]
    },
    {
      "cell_type": "code",
      "source": [
        "new_data=data[['text','airline','airline_sentiment_confidence','airline_sentiment']]\n",
        "new_data.head()"
      ],
      "metadata": {
        "colab": {
          "base_uri": "https://localhost:8080/",
          "height": 206
        },
        "id": "MmNaRO3Jxztf",
        "outputId": "db5d422a-81b6-4f0c-b577-5201e248d5d3"
      },
      "execution_count": null,
      "outputs": [
        {
          "output_type": "execute_result",
          "data": {
            "text/plain": [
              "                                                text         airline  \\\n",
              "0                @VirginAmerica What @dhepburn said.  Virgin America   \n",
              "1  @VirginAmerica plus you've added commercials t...  Virgin America   \n",
              "2  @VirginAmerica I didn't today... Must mean I n...  Virgin America   \n",
              "3  @VirginAmerica it's really aggressive to blast...  Virgin America   \n",
              "4  @VirginAmerica and it's a really big bad thing...  Virgin America   \n",
              "\n",
              "   airline_sentiment_confidence airline_sentiment  \n",
              "0                        1.0000           neutral  \n",
              "1                        0.3486          positive  \n",
              "2                        0.6837           neutral  \n",
              "3                        1.0000          negative  \n",
              "4                        1.0000          negative  "
            ],
            "text/html": [
              "\n",
              "  <div id=\"df-e1868dea-af2b-44cb-8408-a6257004e483\">\n",
              "    <div class=\"colab-df-container\">\n",
              "      <div>\n",
              "<style scoped>\n",
              "    .dataframe tbody tr th:only-of-type {\n",
              "        vertical-align: middle;\n",
              "    }\n",
              "\n",
              "    .dataframe tbody tr th {\n",
              "        vertical-align: top;\n",
              "    }\n",
              "\n",
              "    .dataframe thead th {\n",
              "        text-align: right;\n",
              "    }\n",
              "</style>\n",
              "<table border=\"1\" class=\"dataframe\">\n",
              "  <thead>\n",
              "    <tr style=\"text-align: right;\">\n",
              "      <th></th>\n",
              "      <th>text</th>\n",
              "      <th>airline</th>\n",
              "      <th>airline_sentiment_confidence</th>\n",
              "      <th>airline_sentiment</th>\n",
              "    </tr>\n",
              "  </thead>\n",
              "  <tbody>\n",
              "    <tr>\n",
              "      <th>0</th>\n",
              "      <td>@VirginAmerica What @dhepburn said.</td>\n",
              "      <td>Virgin America</td>\n",
              "      <td>1.0000</td>\n",
              "      <td>neutral</td>\n",
              "    </tr>\n",
              "    <tr>\n",
              "      <th>1</th>\n",
              "      <td>@VirginAmerica plus you've added commercials t...</td>\n",
              "      <td>Virgin America</td>\n",
              "      <td>0.3486</td>\n",
              "      <td>positive</td>\n",
              "    </tr>\n",
              "    <tr>\n",
              "      <th>2</th>\n",
              "      <td>@VirginAmerica I didn't today... Must mean I n...</td>\n",
              "      <td>Virgin America</td>\n",
              "      <td>0.6837</td>\n",
              "      <td>neutral</td>\n",
              "    </tr>\n",
              "    <tr>\n",
              "      <th>3</th>\n",
              "      <td>@VirginAmerica it's really aggressive to blast...</td>\n",
              "      <td>Virgin America</td>\n",
              "      <td>1.0000</td>\n",
              "      <td>negative</td>\n",
              "    </tr>\n",
              "    <tr>\n",
              "      <th>4</th>\n",
              "      <td>@VirginAmerica and it's a really big bad thing...</td>\n",
              "      <td>Virgin America</td>\n",
              "      <td>1.0000</td>\n",
              "      <td>negative</td>\n",
              "    </tr>\n",
              "  </tbody>\n",
              "</table>\n",
              "</div>\n",
              "      <button class=\"colab-df-convert\" onclick=\"convertToInteractive('df-e1868dea-af2b-44cb-8408-a6257004e483')\"\n",
              "              title=\"Convert this dataframe to an interactive table.\"\n",
              "              style=\"display:none;\">\n",
              "        \n",
              "  <svg xmlns=\"http://www.w3.org/2000/svg\" height=\"24px\"viewBox=\"0 0 24 24\"\n",
              "       width=\"24px\">\n",
              "    <path d=\"M0 0h24v24H0V0z\" fill=\"none\"/>\n",
              "    <path d=\"M18.56 5.44l.94 2.06.94-2.06 2.06-.94-2.06-.94-.94-2.06-.94 2.06-2.06.94zm-11 1L8.5 8.5l.94-2.06 2.06-.94-2.06-.94L8.5 2.5l-.94 2.06-2.06.94zm10 10l.94 2.06.94-2.06 2.06-.94-2.06-.94-.94-2.06-.94 2.06-2.06.94z\"/><path d=\"M17.41 7.96l-1.37-1.37c-.4-.4-.92-.59-1.43-.59-.52 0-1.04.2-1.43.59L10.3 9.45l-7.72 7.72c-.78.78-.78 2.05 0 2.83L4 21.41c.39.39.9.59 1.41.59.51 0 1.02-.2 1.41-.59l7.78-7.78 2.81-2.81c.8-.78.8-2.07 0-2.86zM5.41 20L4 18.59l7.72-7.72 1.47 1.35L5.41 20z\"/>\n",
              "  </svg>\n",
              "      </button>\n",
              "      \n",
              "  <style>\n",
              "    .colab-df-container {\n",
              "      display:flex;\n",
              "      flex-wrap:wrap;\n",
              "      gap: 12px;\n",
              "    }\n",
              "\n",
              "    .colab-df-convert {\n",
              "      background-color: #E8F0FE;\n",
              "      border: none;\n",
              "      border-radius: 50%;\n",
              "      cursor: pointer;\n",
              "      display: none;\n",
              "      fill: #1967D2;\n",
              "      height: 32px;\n",
              "      padding: 0 0 0 0;\n",
              "      width: 32px;\n",
              "    }\n",
              "\n",
              "    .colab-df-convert:hover {\n",
              "      background-color: #E2EBFA;\n",
              "      box-shadow: 0px 1px 2px rgba(60, 64, 67, 0.3), 0px 1px 3px 1px rgba(60, 64, 67, 0.15);\n",
              "      fill: #174EA6;\n",
              "    }\n",
              "\n",
              "    [theme=dark] .colab-df-convert {\n",
              "      background-color: #3B4455;\n",
              "      fill: #D2E3FC;\n",
              "    }\n",
              "\n",
              "    [theme=dark] .colab-df-convert:hover {\n",
              "      background-color: #434B5C;\n",
              "      box-shadow: 0px 1px 3px 1px rgba(0, 0, 0, 0.15);\n",
              "      filter: drop-shadow(0px 1px 2px rgba(0, 0, 0, 0.3));\n",
              "      fill: #FFFFFF;\n",
              "    }\n",
              "  </style>\n",
              "\n",
              "      <script>\n",
              "        const buttonEl =\n",
              "          document.querySelector('#df-e1868dea-af2b-44cb-8408-a6257004e483 button.colab-df-convert');\n",
              "        buttonEl.style.display =\n",
              "          google.colab.kernel.accessAllowed ? 'block' : 'none';\n",
              "\n",
              "        async function convertToInteractive(key) {\n",
              "          const element = document.querySelector('#df-e1868dea-af2b-44cb-8408-a6257004e483');\n",
              "          const dataTable =\n",
              "            await google.colab.kernel.invokeFunction('convertToInteractive',\n",
              "                                                     [key], {});\n",
              "          if (!dataTable) return;\n",
              "\n",
              "          const docLinkHtml = 'Like what you see? Visit the ' +\n",
              "            '<a target=\"_blank\" href=https://colab.research.google.com/notebooks/data_table.ipynb>data table notebook</a>'\n",
              "            + ' to learn more about interactive tables.';\n",
              "          element.innerHTML = '';\n",
              "          dataTable['output_type'] = 'display_data';\n",
              "          await google.colab.output.renderOutput(dataTable, element);\n",
              "          const docLink = document.createElement('div');\n",
              "          docLink.innerHTML = docLinkHtml;\n",
              "          element.appendChild(docLink);\n",
              "        }\n",
              "      </script>\n",
              "    </div>\n",
              "  </div>\n",
              "  "
            ]
          },
          "metadata": {},
          "execution_count": 7
        }
      ]
    },
    {
      "cell_type": "code",
      "source": [
        "new_data['airline_sentiment'].value_counts()"
      ],
      "metadata": {
        "colab": {
          "base_uri": "https://localhost:8080/"
        },
        "id": "yikOFED9yz6z",
        "outputId": "4b9e316c-d52d-4f9a-c48f-0e0fdb6ca049"
      },
      "execution_count": null,
      "outputs": [
        {
          "output_type": "execute_result",
          "data": {
            "text/plain": [
              "negative    9178\n",
              "neutral     3099\n",
              "positive    2363\n",
              "Name: airline_sentiment, dtype: int64"
            ]
          },
          "metadata": {},
          "execution_count": 8
        }
      ]
    },
    {
      "cell_type": "markdown",
      "source": [
        "# Visualising the original data"
      ],
      "metadata": {
        "id": "FtmjzEk6yCgb"
      }
    },
    {
      "cell_type": "markdown",
      "source": [
        "The original data has 3 classes- negative,neutral and positive"
      ],
      "metadata": {
        "id": "ReU1TXtfyG44"
      }
    },
    {
      "cell_type": "code",
      "source": [
        "labels = ['negative', 'neutral','positive']\n",
        "sizes = [9178, 3099, 2363]\n",
        "custom_colours = ['#ff7675', '#74b9ff']\n",
        "\n",
        "plt.figure(figsize=(20, 6), dpi=227)\n",
        "plt.subplot(1, 2, 1)\n",
        "plt.pie(sizes, labels = labels, textprops={'fontsize': 15}, startangle=140, autopct='%1.0f%%', explode=[0, 0,0.05])\n",
        "\n",
        "plt.subplot(1, 2, 2)\n",
        "sns.barplot(x = new_data['airline_sentiment'].unique(), y = new_data['airline_sentiment'].value_counts(), palette= 'viridis')\n",
        "\n",
        "plt.show()"
      ],
      "metadata": {
        "colab": {
          "base_uri": "https://localhost:8080/",
          "height": 394
        },
        "id": "K4PklMDCy_il",
        "outputId": "fdf7eed8-62c6-4855-ef6b-a6ca5c918fc2"
      },
      "execution_count": null,
      "outputs": [
        {
          "output_type": "display_data",
          "data": {
            "text/plain": [
              "<Figure size 4540x1362 with 2 Axes>"
            ],
            "image/png": "[encoded data removed]"
          },
          "metadata": {
            "needs_background": "light"
          }
        }
      ]
    },
    {
      "cell_type": "markdown",
      "source": [
        "The above analysis shows there are 63% negative, 21% neutral and 16% positive sentiments."
      ],
      "metadata": {
        "id": "jlCbY-_2yPdi"
      }
    },
    {
      "cell_type": "code",
      "source": [
        "new_data['Total Words'] = new_data['text'].apply(lambda x: len(x.split()))\n",
        "\n",
        "def count_total_words(text):\n",
        "    char = 0\n",
        "    for word in text.split():\n",
        "        char += len(word)\n",
        "    return char\n",
        "\n",
        "new_data['Total Chars'] = new_data[\"text\"].apply(count_total_words)"
      ],
      "metadata": {
        "colab": {
          "base_uri": "https://localhost:8080/"
        },
        "id": "QXUsfvaa0CG2",
        "outputId": "3d1f160b-b2b2-44f3-92a9-a40f38fb633d"
      },
      "execution_count": null,
      "outputs": [
        {
          "output_type": "stream",
          "name": "stderr",
          "text": [
            "<ipython-input-10-179a4e52a45c>:1: SettingWithCopyWarning: \n",
            "A value is trying to be set on a copy of a slice from a DataFrame.\n",
            "Try using .loc[row_indexer,col_indexer] = value instead\n",
            "\n",
            "See the caveats in the documentation: https://pandas.pydata.org/pandas-docs/stable/user_guide/indexing.html#returning-a-view-versus-a-copy\n",
            "  new_data['Total Words'] = new_data['text'].apply(lambda x: len(x.split()))\n",
            "<ipython-input-10-179a4e52a45c>:9: SettingWithCopyWarning: \n",
            "A value is trying to be set on a copy of a slice from a DataFrame.\n",
            "Try using .loc[row_indexer,col_indexer] = value instead\n",
            "\n",
            "See the caveats in the documentation: https://pandas.pydata.org/pandas-docs/stable/user_guide/indexing.html#returning-a-view-versus-a-copy\n",
            "  new_data['Total Chars'] = new_data[\"text\"].apply(count_total_words)\n"
          ]
        }
      ]
    },
    {
      "cell_type": "code",
      "source": [
        "new_data['airline_sentiment'] = new_data['airline_sentiment'].replace({'negative':0,'neutral':1,'positive':1})"
      ],
      "metadata": {
        "colab": {
          "base_uri": "https://localhost:8080/"
        },
        "id": "BRpOspSa0ch1",
        "outputId": "4c482266-4ed1-4483-abc0-98b78654d828"
      },
      "execution_count": null,
      "outputs": [
        {
          "output_type": "stream",
          "name": "stderr",
          "text": [
            "<ipython-input-11-4e1cd0010f11>:1: SettingWithCopyWarning: \n",
            "A value is trying to be set on a copy of a slice from a DataFrame.\n",
            "Try using .loc[row_indexer,col_indexer] = value instead\n",
            "\n",
            "See the caveats in the documentation: https://pandas.pydata.org/pandas-docs/stable/user_guide/indexing.html#returning-a-view-versus-a-copy\n",
            "  new_data['airline_sentiment'] = new_data['airline_sentiment'].replace({'negative':0,'neutral':1,'positive':1})\n"
          ]
        }
      ]
    },
    {
      "cell_type": "code",
      "source": [
        "all_neutral = []\n",
        "for sentence in new_data[new_data['airline_sentiment'] == 1]['text'].to_list():\n",
        "    for word in sentence.split():\n",
        "        all_neutral.append(word)\n",
        "\n",
        "df = pd.DataFrame(Counter(all_neutral).most_common(25), columns= ['Word', 'Frequency'])\n",
        "\n",
        "sns.set_context('notebook', font_scale= 1.3)\n",
        "plt.figure(figsize=(18,8))\n",
        "sns.barplot(y = df['Word'], x= df['Frequency'], palette= 'summer')\n",
        "plt.title(\"Most Commonly Used Negative Words\")\n",
        "plt.xlabel(\"Frequnecy\")\n",
        "plt.ylabel(\"Negative texts\")\n",
        "plt.show()"
      ],
      "metadata": {
        "colab": {
          "base_uri": "https://localhost:8080/",
          "height": 500
        },
        "id": "5OBKMSLs0zvA",
        "outputId": "e92a752b-7359-44cd-f4b8-ed27798e3dd8"
      },
      "execution_count": null,
      "outputs": [
        {
          "output_type": "display_data",
          "data": {
            "text/plain": [
              "<Figure size 1296x576 with 1 Axes>"
            ],
            "image/png": "[encoded data removed]"
          },
          "metadata": {
            "needs_background": "light"
          }
        }
      ]
    },
    {
      "cell_type": "code",
      "source": [
        "all_positive = []\n",
        "for sentence in new_data[new_data['airline_sentiment'] == 1]['text'].to_list():\n",
        "    for word in sentence.split():\n",
        "        all_positive.append(word)\n",
        "\n",
        "df = pd.DataFrame(Counter(all_neutral).most_common(25), columns= ['Word', 'Frequency'])\n",
        "\n",
        "sns.set_context('notebook', font_scale= 1.3)\n",
        "plt.figure(figsize=(18,8))\n",
        "sns.barplot(y = df['Word'], x= df['Frequency'], palette= 'winter')\n",
        "plt.title(\"Most Commonly Used Positive Words\")\n",
        "plt.xlabel(\"Frequnecy\")\n",
        "plt.ylabel(\"Positive texts\")\n",
        "plt.show()"
      ],
      "metadata": {
        "colab": {
          "base_uri": "https://localhost:8080/",
          "height": 500
        },
        "id": "JCAHnWi-1fZ-",
        "outputId": "2e930d96-02ce-4051-f65a-80ee8273d902"
      },
      "execution_count": null,
      "outputs": [
        {
          "output_type": "display_data",
          "data": {
            "text/plain": [
              "<Figure size 1296x576 with 1 Axes>"
            ],
            "image/png": "[encoded data removed]"
          },
          "metadata": {
            "needs_background": "light"
          }
        }
      ]
    },
    {
      "cell_type": "markdown",
      "source": [
        "# Classify attributes in two categories"
      ],
      "metadata": {
        "id": "ihCc0TA2yeok"
      }
    },
    {
      "cell_type": "code",
      "source": [
        "new_data['airline_sentiment'].value_counts()"
      ],
      "metadata": {
        "colab": {
          "base_uri": "https://localhost:8080/"
        },
        "id": "PwVbN3CmZIst",
        "outputId": "cc413b25-5666-4b08-978b-0893b170f165"
      },
      "execution_count": null,
      "outputs": [
        {
          "output_type": "execute_result",
          "data": {
            "text/plain": [
              "0    9178\n",
              "1    5462\n",
              "Name: airline_sentiment, dtype: int64"
            ]
          },
          "metadata": {},
          "execution_count": 14
        }
      ]
    },
    {
      "cell_type": "markdown",
      "source": [
        "The neutral and negative sentiments have been merged to positive to create two class. After changing there are two classes:\n",
        "\n",
        "0 - indicating negative\n",
        "\n",
        "1- indicating positive"
      ],
      "metadata": {
        "id": "oKS-XKk5yj5k"
      }
    },
    {
      "cell_type": "markdown",
      "source": [
        "# Graphically visualize the difference between low and high value of targeted feature graph. "
      ],
      "metadata": {
        "id": "CMHOMgMsy9VP"
      }
    },
    {
      "cell_type": "code",
      "source": [
        "labels = ['negative','positive']\n",
        "sizes = [9178, 5462]\n",
        "custom_colours = ['#ff7675', '#74b9ff']\n",
        "\n",
        "plt.figure(figsize=(20, 6), dpi=227)\n",
        "plt.subplot(1, 2, 1)\n",
        "plt.pie(sizes, labels = labels, textprops={'fontsize': 15}, startangle=140, autopct='%1.0f%%', explode=[0,0.05])\n",
        "\n",
        "plt.subplot(1, 2, 2)\n",
        "sns.barplot(x = new_data['airline_sentiment'].unique(), y = new_data['airline_sentiment'].value_counts(), palette= 'viridis')\n",
        "\n",
        "plt.show()"
      ],
      "metadata": {
        "colab": {
          "base_uri": "https://localhost:8080/",
          "height": 400
        },
        "id": "LJgnfK1OZS3A",
        "outputId": "69c964c5-8b49-4baa-e762-8f77985d527c"
      },
      "execution_count": null,
      "outputs": [
        {
          "output_type": "display_data",
          "data": {
            "text/plain": [
              "<Figure size 4540x1362 with 2 Axes>"
            ],
            "image/png": "[encoded data removed]"
          },
          "metadata": {
            "needs_background": "light"
          }
        }
      ]
    },
    {
      "cell_type": "markdown",
      "source": [
        "# Triage some of the irrelevant punctuation and other symbols in the corpus document,change all text to lower case, etc. "
      ],
      "metadata": {
        "id": "ehWo1HObzFrD"
      }
    },
    {
      "cell_type": "code",
      "source": [
        "\n",
        "import re\n",
        "import nltk\n",
        "from nltk.corpus import stopwords\n",
        "from nltk.stem.porter import PorterStemmer\n",
        "from sklearn.feature_extraction.text import CountVectorizer\n",
        " "
      ],
      "metadata": {
        "id": "tPxUdg7Ktf4W"
      },
      "execution_count": null,
      "outputs": []
    },
    {
      "cell_type": "code",
      "source": [
        "data_h= pd.DataFrame()\n",
        "data_l=pd.DataFrame"
      ],
      "metadata": {
        "id": "soFY3lYxb6M-"
      },
      "execution_count": null,
      "outputs": []
    },
    {
      "cell_type": "code",
      "source": [
        "data_h['text']=new_data['text']+new_data['airline']+new_data['airline_sentiment_confidence'].astype(str)\n",
        "data_h['airline_sentiment']=new_data['airline_sentiment']"
      ],
      "metadata": {
        "id": "cmPQUMSrNHw8"
      },
      "execution_count": null,
      "outputs": []
    },
    {
      "cell_type": "markdown",
      "source": [
        "The above considers three features for finding the sentiment."
      ],
      "metadata": {
        "id": "PWF_YaRO0RbM"
      }
    },
    {
      "cell_type": "code",
      "source": [
        "nltk.download('stopwords')"
      ],
      "metadata": {
        "colab": {
          "base_uri": "https://localhost:8080/"
        },
        "id": "0BGxcarkO6nb",
        "outputId": "3a02a2e3-aade-4478-bf0f-637ce2ea3f98"
      },
      "execution_count": null,
      "outputs": [
        {
          "output_type": "stream",
          "name": "stderr",
          "text": [
            "[nltk_data] Downloading package stopwords to /root/nltk_data...\n",
            "[nltk_data]   Package stopwords is already up-to-date!\n"
          ]
        },
        {
          "output_type": "execute_result",
          "data": {
            "text/plain": [
              "True"
            ]
          },
          "metadata": {},
          "execution_count": 19
        }
      ]
    },
    {
      "cell_type": "markdown",
      "source": [
        "# Removing punctuations, converting to lower case and stemming the words."
      ],
      "metadata": {
        "id": "T9_bWyeC0cEV"
      }
    },
    {
      "cell_type": "code",
      "source": [
        "import re\n",
        "import nltk\n",
        "from nltk.corpus import stopwords\n",
        "from nltk.stem.porter import PorterStemmer\n",
        "#Every mail starts with 'Subject :' will remove this from each text \n",
        "\n",
        "data_h['text']=data_h['text'].map(lambda text: text[1:])\n",
        "data_h['text'] = data_h['text'].map(lambda text:re.sub('[^a-zA-Z0-9]+', ' ',text)).apply(lambda x: (x.lower()).split())\n",
        "ps = PorterStemmer()\n",
        "corpus=data_h['text'].apply(lambda text_list:' '.join(list(map(lambda word:ps.stem(word),(list(filter(lambda text:text not in set(stopwords.words('english')),text_list)))))))\n",
        "\n",
        "# Creating the Bag of Words model"
      ],
      "metadata": {
        "id": "UPPakaXaIrdi"
      },
      "execution_count": null,
      "outputs": []
    },
    {
      "cell_type": "code",
      "source": [
        "import re\n",
        "import nltk\n",
        "from nltk.corpus import stopwords\n",
        "from nltk.stem.porter import PorterStemmer\n",
        "#Every mail starts with 'Subject :' will remove this from each text \n",
        "\n",
        "\n",
        "new_data['text'] = new_data['text'].map(lambda text:re.sub('[^a-zA-Z0-9]+', ' ',text)).apply(lambda x: (x.lower()).split())\n",
        "ps = PorterStemmer()\n",
        "corpus2=new_data['text'].apply(lambda text_list:' '.join(list(map(lambda word:ps.stem(word),(list(filter(lambda text:text not in set(stopwords.words('english')),text_list)))))))\n",
        "\n",
        "# Creating the Bag of Words model"
      ],
      "metadata": {
        "colab": {
          "base_uri": "https://localhost:8080/"
        },
        "id": "Quz-HCwTcdDX",
        "outputId": "f6375857-1ef4-4aeb-a1b5-d80d314d4321"
      },
      "execution_count": null,
      "outputs": [
        {
          "output_type": "stream",
          "name": "stderr",
          "text": [
            "<ipython-input-21-82c7af87187d>:8: SettingWithCopyWarning: \n",
            "A value is trying to be set on a copy of a slice from a DataFrame.\n",
            "Try using .loc[row_indexer,col_indexer] = value instead\n",
            "\n",
            "See the caveats in the documentation: https://pandas.pydata.org/pandas-docs/stable/user_guide/indexing.html#returning-a-view-versus-a-copy\n",
            "  new_data['text'] = new_data['text'].map(lambda text:re.sub('[^a-zA-Z0-9]+', ' ',text)).apply(lambda x: (x.lower()).split())\n"
          ]
        }
      ]
    },
    {
      "cell_type": "markdown",
      "source": [
        "# Convert the textual meta-data into a suitable (e.g. corpus) object. "
      ],
      "metadata": {
        "id": "4lB-zn4AzLgr"
      }
    },
    {
      "cell_type": "code",
      "source": [
        "corpus_h = pd.DataFrame()\n",
        "corpus_h['text']=corpus\n",
        "corpus_h['airline_sentiment']=new_data['airline_sentiment']\n",
        "corpus_h.head()"
      ],
      "metadata": {
        "id": "RNZL73ZMcsMt",
        "colab": {
          "base_uri": "https://localhost:8080/",
          "height": 206
        },
        "outputId": "57dfb0c8-2708-45a9-d49f-9ceac1759d94"
      },
      "execution_count": null,
      "outputs": [
        {
          "output_type": "execute_result",
          "data": {
            "text/plain": [
              "                                                text  airline_sentiment\n",
              "0      virginamerica dhepburn said virgin america1 0                  1\n",
              "1  virginamerica plu ad commerci experi tacki vir...                  1\n",
              "2  virginamerica today must mean need take anoth ...                  1\n",
              "3  virginamerica realli aggress blast obnoxi ente...                  0\n",
              "4  virginamerica realli big bad thing itvirgin am...                  0"
            ],
            "text/html": [
              "\n",
              "  <div id=\"df-5575adce-37de-4fe3-bb36-5c4afe8b808a\">\n",
              "    <div class=\"colab-df-container\">\n",
              "      <div>\n",
              "<style scoped>\n",
              "    .dataframe tbody tr th:only-of-type {\n",
              "        vertical-align: middle;\n",
              "    }\n",
              "\n",
              "    .dataframe tbody tr th {\n",
              "        vertical-align: top;\n",
              "    }\n",
              "\n",
              "    .dataframe thead th {\n",
              "        text-align: right;\n",
              "    }\n",
              "</style>\n",
              "<table border=\"1\" class=\"dataframe\">\n",
              "  <thead>\n",
              "    <tr style=\"text-align: right;\">\n",
              "      <th></th>\n",
              "      <th>text</th>\n",
              "      <th>airline_sentiment</th>\n",
              "    </tr>\n",
              "  </thead>\n",
              "  <tbody>\n",
              "    <tr>\n",
              "      <th>0</th>\n",
              "      <td>virginamerica dhepburn said virgin america1 0</td>\n",
              "      <td>1</td>\n",
              "    </tr>\n",
              "    <tr>\n",
              "      <th>1</th>\n",
              "      <td>virginamerica plu ad commerci experi tacki vir...</td>\n",
              "      <td>1</td>\n",
              "    </tr>\n",
              "    <tr>\n",
              "      <th>2</th>\n",
              "      <td>virginamerica today must mean need take anoth ...</td>\n",
              "      <td>1</td>\n",
              "    </tr>\n",
              "    <tr>\n",
              "      <th>3</th>\n",
              "      <td>virginamerica realli aggress blast obnoxi ente...</td>\n",
              "      <td>0</td>\n",
              "    </tr>\n",
              "    <tr>\n",
              "      <th>4</th>\n",
              "      <td>virginamerica realli big bad thing itvirgin am...</td>\n",
              "      <td>0</td>\n",
              "    </tr>\n",
              "  </tbody>\n",
              "</table>\n",
              "</div>\n",
              "      <button class=\"colab-df-convert\" onclick=\"convertToInteractive('df-5575adce-37de-4fe3-bb36-5c4afe8b808a')\"\n",
              "              title=\"Convert this dataframe to an interactive table.\"\n",
              "              style=\"display:none;\">\n",
              "        \n",
              "  <svg xmlns=\"http://www.w3.org/2000/svg\" height=\"24px\"viewBox=\"0 0 24 24\"\n",
              "       width=\"24px\">\n",
              "    <path d=\"M0 0h24v24H0V0z\" fill=\"none\"/>\n",
              "    <path d=\"M18.56 5.44l.94 2.06.94-2.06 2.06-.94-2.06-.94-.94-2.06-.94 2.06-2.06.94zm-11 1L8.5 8.5l.94-2.06 2.06-.94-2.06-.94L8.5 2.5l-.94 2.06-2.06.94zm10 10l.94 2.06.94-2.06 2.06-.94-2.06-.94-.94-2.06-.94 2.06-2.06.94z\"/><path d=\"M17.41 7.96l-1.37-1.37c-.4-.4-.92-.59-1.43-.59-.52 0-1.04.2-1.43.59L10.3 9.45l-7.72 7.72c-.78.78-.78 2.05 0 2.83L4 21.41c.39.39.9.59 1.41.59.51 0 1.02-.2 1.41-.59l7.78-7.78 2.81-2.81c.8-.78.8-2.07 0-2.86zM5.41 20L4 18.59l7.72-7.72 1.47 1.35L5.41 20z\"/>\n",
              "  </svg>\n",
              "      </button>\n",
              "      \n",
              "  <style>\n",
              "    .colab-df-container {\n",
              "      display:flex;\n",
              "      flex-wrap:wrap;\n",
              "      gap: 12px;\n",
              "    }\n",
              "\n",
              "    .colab-df-convert {\n",
              "      background-color: #E8F0FE;\n",
              "      border: none;\n",
              "      border-radius: 50%;\n",
              "      cursor: pointer;\n",
              "      display: none;\n",
              "      fill: #1967D2;\n",
              "      height: 32px;\n",
              "      padding: 0 0 0 0;\n",
              "      width: 32px;\n",
              "    }\n",
              "\n",
              "    .colab-df-convert:hover {\n",
              "      background-color: #E2EBFA;\n",
              "      box-shadow: 0px 1px 2px rgba(60, 64, 67, 0.3), 0px 1px 3px 1px rgba(60, 64, 67, 0.15);\n",
              "      fill: #174EA6;\n",
              "    }\n",
              "\n",
              "    [theme=dark] .colab-df-convert {\n",
              "      background-color: #3B4455;\n",
              "      fill: #D2E3FC;\n",
              "    }\n",
              "\n",
              "    [theme=dark] .colab-df-convert:hover {\n",
              "      background-color: #434B5C;\n",
              "      box-shadow: 0px 1px 3px 1px rgba(0, 0, 0, 0.15);\n",
              "      filter: drop-shadow(0px 1px 2px rgba(0, 0, 0, 0.3));\n",
              "      fill: #FFFFFF;\n",
              "    }\n",
              "  </style>\n",
              "\n",
              "      <script>\n",
              "        const buttonEl =\n",
              "          document.querySelector('#df-5575adce-37de-4fe3-bb36-5c4afe8b808a button.colab-df-convert');\n",
              "        buttonEl.style.display =\n",
              "          google.colab.kernel.accessAllowed ? 'block' : 'none';\n",
              "\n",
              "        async function convertToInteractive(key) {\n",
              "          const element = document.querySelector('#df-5575adce-37de-4fe3-bb36-5c4afe8b808a');\n",
              "          const dataTable =\n",
              "            await google.colab.kernel.invokeFunction('convertToInteractive',\n",
              "                                                     [key], {});\n",
              "          if (!dataTable) return;\n",
              "\n",
              "          const docLinkHtml = 'Like what you see? Visit the ' +\n",
              "            '<a target=\"_blank\" href=https://colab.research.google.com/notebooks/data_table.ipynb>data table notebook</a>'\n",
              "            + ' to learn more about interactive tables.';\n",
              "          element.innerHTML = '';\n",
              "          dataTable['output_type'] = 'display_data';\n",
              "          await google.colab.output.renderOutput(dataTable, element);\n",
              "          const docLink = document.createElement('div');\n",
              "          docLink.innerHTML = docLinkHtml;\n",
              "          element.appendChild(docLink);\n",
              "        }\n",
              "      </script>\n",
              "    </div>\n",
              "  </div>\n",
              "  "
            ]
          },
          "metadata": {},
          "execution_count": 22
        }
      ]
    },
    {
      "cell_type": "code",
      "source": [
        "corpus_l = pd.DataFrame()\n",
        "corpus_l['text']=corpus2\n",
        "corpus_l['airline_sentiment']=new_data['airline_sentiment']\n",
        "corpus_l.head()"
      ],
      "metadata": {
        "colab": {
          "base_uri": "https://localhost:8080/",
          "height": 206
        },
        "id": "14RiUlY4duq-",
        "outputId": "a056bdae-79f3-4441-8a4d-caedbe232e4f"
      },
      "execution_count": null,
      "outputs": [
        {
          "output_type": "execute_result",
          "data": {
            "text/plain": [
              "                                                text  airline_sentiment\n",
              "0                        virginamerica dhepburn said                  1\n",
              "1         virginamerica plu ad commerci experi tacki                  1\n",
              "2  virginamerica today must mean need take anoth ...                  1\n",
              "3  virginamerica realli aggress blast obnoxi ente...                  0\n",
              "4                 virginamerica realli big bad thing                  0"
            ],
            "text/html": [
              "\n",
              "  <div id=\"df-0fee504f-7294-471d-a629-d6c73809534c\">\n",
              "    <div class=\"colab-df-container\">\n",
              "      <div>\n",
              "<style scoped>\n",
              "    .dataframe tbody tr th:only-of-type {\n",
              "        vertical-align: middle;\n",
              "    }\n",
              "\n",
              "    .dataframe tbody tr th {\n",
              "        vertical-align: top;\n",
              "    }\n",
              "\n",
              "    .dataframe thead th {\n",
              "        text-align: right;\n",
              "    }\n",
              "</style>\n",
              "<table border=\"1\" class=\"dataframe\">\n",
              "  <thead>\n",
              "    <tr style=\"text-align: right;\">\n",
              "      <th></th>\n",
              "      <th>text</th>\n",
              "      <th>airline_sentiment</th>\n",
              "    </tr>\n",
              "  </thead>\n",
              "  <tbody>\n",
              "    <tr>\n",
              "      <th>0</th>\n",
              "      <td>virginamerica dhepburn said</td>\n",
              "      <td>1</td>\n",
              "    </tr>\n",
              "    <tr>\n",
              "      <th>1</th>\n",
              "      <td>virginamerica plu ad commerci experi tacki</td>\n",
              "      <td>1</td>\n",
              "    </tr>\n",
              "    <tr>\n",
              "      <th>2</th>\n",
              "      <td>virginamerica today must mean need take anoth ...</td>\n",
              "      <td>1</td>\n",
              "    </tr>\n",
              "    <tr>\n",
              "      <th>3</th>\n",
              "      <td>virginamerica realli aggress blast obnoxi ente...</td>\n",
              "      <td>0</td>\n",
              "    </tr>\n",
              "    <tr>\n",
              "      <th>4</th>\n",
              "      <td>virginamerica realli big bad thing</td>\n",
              "      <td>0</td>\n",
              "    </tr>\n",
              "  </tbody>\n",
              "</table>\n",
              "</div>\n",
              "      <button class=\"colab-df-convert\" onclick=\"convertToInteractive('df-0fee504f-7294-471d-a629-d6c73809534c')\"\n",
              "              title=\"Convert this dataframe to an interactive table.\"\n",
              "              style=\"display:none;\">\n",
              "        \n",
              "  <svg xmlns=\"http://www.w3.org/2000/svg\" height=\"24px\"viewBox=\"0 0 24 24\"\n",
              "       width=\"24px\">\n",
              "    <path d=\"M0 0h24v24H0V0z\" fill=\"none\"/>\n",
              "    <path d=\"M18.56 5.44l.94 2.06.94-2.06 2.06-.94-2.06-.94-.94-2.06-.94 2.06-2.06.94zm-11 1L8.5 8.5l.94-2.06 2.06-.94-2.06-.94L8.5 2.5l-.94 2.06-2.06.94zm10 10l.94 2.06.94-2.06 2.06-.94-2.06-.94-.94-2.06-.94 2.06-2.06.94z\"/><path d=\"M17.41 7.96l-1.37-1.37c-.4-.4-.92-.59-1.43-.59-.52 0-1.04.2-1.43.59L10.3 9.45l-7.72 7.72c-.78.78-.78 2.05 0 2.83L4 21.41c.39.39.9.59 1.41.59.51 0 1.02-.2 1.41-.59l7.78-7.78 2.81-2.81c.8-.78.8-2.07 0-2.86zM5.41 20L4 18.59l7.72-7.72 1.47 1.35L5.41 20z\"/>\n",
              "  </svg>\n",
              "      </button>\n",
              "      \n",
              "  <style>\n",
              "    .colab-df-container {\n",
              "      display:flex;\n",
              "      flex-wrap:wrap;\n",
              "      gap: 12px;\n",
              "    }\n",
              "\n",
              "    .colab-df-convert {\n",
              "      background-color: #E8F0FE;\n",
              "      border: none;\n",
              "      border-radius: 50%;\n",
              "      cursor: pointer;\n",
              "      display: none;\n",
              "      fill: #1967D2;\n",
              "      height: 32px;\n",
              "      padding: 0 0 0 0;\n",
              "      width: 32px;\n",
              "    }\n",
              "\n",
              "    .colab-df-convert:hover {\n",
              "      background-color: #E2EBFA;\n",
              "      box-shadow: 0px 1px 2px rgba(60, 64, 67, 0.3), 0px 1px 3px 1px rgba(60, 64, 67, 0.15);\n",
              "      fill: #174EA6;\n",
              "    }\n",
              "\n",
              "    [theme=dark] .colab-df-convert {\n",
              "      background-color: #3B4455;\n",
              "      fill: #D2E3FC;\n",
              "    }\n",
              "\n",
              "    [theme=dark] .colab-df-convert:hover {\n",
              "      background-color: #434B5C;\n",
              "      box-shadow: 0px 1px 3px 1px rgba(0, 0, 0, 0.15);\n",
              "      filter: drop-shadow(0px 1px 2px rgba(0, 0, 0, 0.3));\n",
              "      fill: #FFFFFF;\n",
              "    }\n",
              "  </style>\n",
              "\n",
              "      <script>\n",
              "        const buttonEl =\n",
              "          document.querySelector('#df-0fee504f-7294-471d-a629-d6c73809534c button.colab-df-convert');\n",
              "        buttonEl.style.display =\n",
              "          google.colab.kernel.accessAllowed ? 'block' : 'none';\n",
              "\n",
              "        async function convertToInteractive(key) {\n",
              "          const element = document.querySelector('#df-0fee504f-7294-471d-a629-d6c73809534c');\n",
              "          const dataTable =\n",
              "            await google.colab.kernel.invokeFunction('convertToInteractive',\n",
              "                                                     [key], {});\n",
              "          if (!dataTable) return;\n",
              "\n",
              "          const docLinkHtml = 'Like what you see? Visit the ' +\n",
              "            '<a target=\"_blank\" href=https://colab.research.google.com/notebooks/data_table.ipynb>data table notebook</a>'\n",
              "            + ' to learn more about interactive tables.';\n",
              "          element.innerHTML = '';\n",
              "          dataTable['output_type'] = 'display_data';\n",
              "          await google.colab.output.renderOutput(dataTable, element);\n",
              "          const docLink = document.createElement('div');\n",
              "          docLink.innerHTML = docLinkHtml;\n",
              "          element.appendChild(docLink);\n",
              "        }\n",
              "      </script>\n",
              "    </div>\n",
              "  </div>\n",
              "  "
            ]
          },
          "metadata": {},
          "execution_count": 23
        }
      ]
    },
    {
      "cell_type": "code",
      "source": [
        "from sklearn.feature_extraction.text import CountVectorizer\n",
        "vec = CountVectorizer()\n",
        "dtm_h  = vec.fit_transform(corpus_h['text'])"
      ],
      "metadata": {
        "id": "Dht0j1nIeJcz"
      },
      "execution_count": null,
      "outputs": []
    },
    {
      "cell_type": "code",
      "source": [
        "from sklearn.feature_extraction.text import CountVectorizer\n",
        "vec = CountVectorizer()\n",
        "dtm_l  = vec.fit_transform(corpus_l['text'])"
      ],
      "metadata": {
        "id": "xqvkNq6VeNhN"
      },
      "execution_count": null,
      "outputs": []
    },
    {
      "cell_type": "markdown",
      "source": [
        "# Ignore those low frequency words and report the sparsity of your categorical data matrix with or without delete those low frequency words. \n",
        "Note that the sparsity of a matrix is the fraction: \n",
        "Sparsity(A) = number of zero-valued elements / total number of matrix elements (m×n). "
      ],
      "metadata": {
        "id": "WZHKWSpyzXox"
      }
    },
    {
      "cell_type": "code",
      "source": [
        "print(f'No of terms in the document term matrix is {dtm_h.shape[1]}')\n",
        "# Print the first 10 rows "
      ],
      "metadata": {
        "colab": {
          "base_uri": "https://localhost:8080/"
        },
        "id": "SGvVZA7LeWei",
        "outputId": "9d2f62cc-bc84-47cc-cc44-2518fecd95db"
      },
      "execution_count": null,
      "outputs": [
        {
          "output_type": "stream",
          "name": "stdout",
          "text": [
            "No of terms in the document term matrix is 15678\n"
          ]
        }
      ]
    },
    {
      "cell_type": "code",
      "source": [
        "five_percent_vectorizer1 = CountVectorizer(min_df = 0.05)\n",
        "five_percent_document_term_matrix1 = five_percent_vectorizer1.fit_transform(corpus_h['text'])\n",
        "\n",
        "print(f'No of terms in the the one percent document term matrix is {five_percent_document_term_matrix1.shape[1]}')"
      ],
      "metadata": {
        "colab": {
          "base_uri": "https://localhost:8080/"
        },
        "id": "AwNFNuUHfEYU",
        "outputId": "05f648a8-fa12-46b7-fcee-66ad042afecc"
      },
      "execution_count": null,
      "outputs": [
        {
          "output_type": "stream",
          "name": "stdout",
          "text": [
            "No of terms in the the one percent document term matrix is 23\n"
          ]
        }
      ]
    },
    {
      "cell_type": "markdown",
      "source": [
        "The above deletes the terms  occuring in less than 5 % of the document of the higher dimension data."
      ],
      "metadata": {
        "id": "9RHrSOtrzjwK"
      }
    },
    {
      "cell_type": "code",
      "source": [
        "from numpy import count_nonzero\n",
        "densemat=five_percent_document_term_matrix1.toarray()\n",
        "sparsity = 1.0 - ( count_nonzero(densemat) / float(densemat.size) )\n",
        "print('Sparsity of higher dimension matrix',sparsity)"
      ],
      "metadata": {
        "colab": {
          "base_uri": "https://localhost:8080/"
        },
        "id": "2jLUs0AKsCM4",
        "outputId": "2bb279d4-447c-4671-eb26-daaa07422d00"
      },
      "execution_count": null,
      "outputs": [
        {
          "output_type": "stream",
          "name": "stdout",
          "text": [
            "Sparsity of higher dimension matrix 0.8848360655737705\n"
          ]
        }
      ]
    },
    {
      "cell_type": "markdown",
      "source": [
        "Sparsity of the higher dimension data is 88.48%"
      ],
      "metadata": {
        "id": "WelU3wcM0B5j"
      }
    },
    {
      "cell_type": "code",
      "source": [
        "print(f'No of terms in the document term matrix is {dtm_l.shape[1]}')\n",
        "# Print the first 10 rows "
      ],
      "metadata": {
        "colab": {
          "base_uri": "https://localhost:8080/"
        },
        "id": "NJM5BsOcfTTA",
        "outputId": "fb0416bc-6ee6-4998-ca04-6fc580b4aabe"
      },
      "execution_count": null,
      "outputs": [
        {
          "output_type": "stream",
          "name": "stdout",
          "text": [
            "No of terms in the document term matrix is 12000\n"
          ]
        }
      ]
    },
    {
      "cell_type": "code",
      "source": [
        "five_percent_vectorizer2 = CountVectorizer(min_df = 0.05)\n",
        "five_percent_document_term_matrix2 = five_percent_vectorizer1.fit_transform(corpus_l['text'])\n",
        "\n",
        "print(f'No of terms in the the one percent document for lower dimension is {five_percent_document_term_matrix2.shape[1]}')"
      ],
      "metadata": {
        "colab": {
          "base_uri": "https://localhost:8080/"
        },
        "id": "k6jrdttOfU4j",
        "outputId": "1fe9503b-e479-4707-b7fe-d8b386ef43a5"
      },
      "execution_count": null,
      "outputs": [
        {
          "output_type": "stream",
          "name": "stdout",
          "text": [
            "No of terms in the the one percent document for lower dimension is 17\n"
          ]
        }
      ]
    },
    {
      "cell_type": "markdown",
      "source": [
        "The above deletes the terms  occuring in less than 5 % of the document of the lower dimension data."
      ],
      "metadata": {
        "id": "Xe_xI0Mzz-Oo"
      }
    },
    {
      "cell_type": "code",
      "source": [
        "from numpy import count_nonzero\n",
        "densemat1=five_percent_document_term_matrix2.toarray()\n",
        "sparsity = 1.0 - ( count_nonzero(densemat1) / float(densemat1.size) )\n",
        "print('Sparsity of lower dimension matrix',sparsity)"
      ],
      "metadata": {
        "colab": {
          "base_uri": "https://localhost:8080/"
        },
        "id": "IyTrEl7ntwYa",
        "outputId": "2a1e8882-1658-4f31-fb37-0e7245b24c84"
      },
      "execution_count": null,
      "outputs": [
        {
          "output_type": "stream",
          "name": "stdout",
          "text": [
            "Sparsity of lower dimension matrix 0.8774027643844423\n"
          ]
        }
      ]
    },
    {
      "cell_type": "markdown",
      "source": [
        "Sparsity of the low dimension data is 87.7%"
      ],
      "metadata": {
        "id": "lQlZPCxE0IPd"
      }
    },
    {
      "cell_type": "markdown",
      "source": [
        "# Vectorising the attributes"
      ],
      "metadata": {
        "id": "i8zmdA8o0p3C"
      }
    },
    {
      "cell_type": "code",
      "source": [
        "from sklearn.feature_extraction.text import CountVectorizer\n",
        "cv = CountVectorizer()\n",
        "#X_h = cv.fit_transform(dtm_l).toarray()\n",
        "y_h = corpus_h['airline_sentiment'].values\n"
      ],
      "metadata": {
        "id": "yJUX7ONggafu"
      },
      "execution_count": null,
      "outputs": []
    },
    {
      "cell_type": "code",
      "source": [
        "from sklearn.feature_extraction.text import CountVectorizer\n",
        "cv = CountVectorizer()\n",
        "#X_l = cv.fit_transform(corpus_l['text']).toarray()\n",
        "y_l = corpus_l['airline_sentiment'].values\n"
      ],
      "metadata": {
        "id": "KvoFk33qgoTK"
      },
      "execution_count": null,
      "outputs": []
    },
    {
      "cell_type": "markdown",
      "source": [
        "# Building the model"
      ],
      "metadata": {
        "id": "B0O049D70u5t"
      }
    },
    {
      "cell_type": "code",
      "source": [
        "from sklearn.model_selection import train_test_split\n",
        "X_train, X_test, y_train, y_test = train_test_split(five_percent_document_term_matrix1,y_h,random_state=1)"
      ],
      "metadata": {
        "id": "HyrJpwHLwnKr"
      },
      "execution_count": null,
      "outputs": []
    },
    {
      "cell_type": "code",
      "source": [
        "from sklearn.model_selection import train_test_split\n",
        "X_train1, X_test1, y_train1, y_test1 = train_test_split(five_percent_document_term_matrix2,y_l,random_state=1)"
      ],
      "metadata": {
        "id": "dAdVdmJ0l2x1"
      },
      "execution_count": null,
      "outputs": []
    },
    {
      "cell_type": "markdown",
      "source": [
        "# Applying Naive Bayes for higher and lower dimension data"
      ],
      "metadata": {
        "id": "_-IepeJU0yqQ"
      }
    },
    {
      "cell_type": "code",
      "source": [
        "from sklearn.naive_bayes import MultinomialNB\n",
        "naive_bayes = MultinomialNB()\n",
        "naive_bayes.fit(X_train, y_train)\n",
        "predictions = naive_bayes.predict(X_test)"
      ],
      "metadata": {
        "id": "5RfeIwLQrn8S"
      },
      "execution_count": null,
      "outputs": []
    },
    {
      "cell_type": "code",
      "source": [
        "from sklearn.naive_bayes import MultinomialNB\n",
        "naive_bayes = MultinomialNB()\n",
        "naive_bayes.fit(X_train1, y_train1)\n",
        "predictions1 = naive_bayes.predict(X_test1)"
      ],
      "metadata": {
        "id": "sd1RsGJhmAWb"
      },
      "execution_count": null,
      "outputs": []
    },
    {
      "cell_type": "code",
      "source": [
        "from sklearn.metrics import confusion_matrix\n",
        "import matplotlib.pyplot as plt\n",
        "import seaborn as sns\n",
        "cm = confusion_matrix(y_test, predictions)\n",
        "sns.heatmap(cm, square=True, annot=True, cmap='RdBu', cbar=False)\n",
        "plt.xlabel('true label')\n",
        "plt.ylabel('predicted label')\n"
      ],
      "metadata": {
        "colab": {
          "base_uri": "https://localhost:8080/",
          "height": 309
        },
        "id": "5_Vt-BEersgZ",
        "outputId": "8bc429a3-6093-4b6e-fbb1-f71e1231954d"
      },
      "execution_count": null,
      "outputs": [
        {
          "output_type": "execute_result",
          "data": {
            "text/plain": [
              "Text(85.18, 0.5, 'predicted label')"
            ]
          },
          "metadata": {},
          "execution_count": 77
        },
        {
          "output_type": "display_data",
          "data": {
            "text/plain": [
              "<Figure size 432x288 with 1 Axes>"
            ],
            "image/png": "[encoded data removed]"
          },
          "metadata": {
            "needs_background": "light"
          }
        }
      ]
    },
    {
      "cell_type": "code",
      "source": [
        "from sklearn.metrics import confusion_matrix\n",
        "import matplotlib.pyplot as plt\n",
        "import seaborn as sns\n",
        "cm = confusion_matrix(y_test1, predictions1)\n",
        "sns.heatmap(cm, square=True, annot=True, cmap='RdBu', cbar=False)\n",
        "plt.xlabel('true label')\n",
        "plt.ylabel('predicted label')\n"
      ],
      "metadata": {
        "colab": {
          "base_uri": "https://localhost:8080/",
          "height": 309
        },
        "outputId": "9f65fd89-fe02-4dcb-d69f-8fd67acdb018",
        "id": "GtDNIPWymiUd"
      },
      "execution_count": null,
      "outputs": [
        {
          "output_type": "execute_result",
          "data": {
            "text/plain": [
              "Text(85.18, 0.5, 'predicted label')"
            ]
          },
          "metadata": {},
          "execution_count": 78
        },
        {
          "output_type": "display_data",
          "data": {
            "text/plain": [
              "<Figure size 432x288 with 1 Axes>"
            ],
            "image/png": "[encoded data removed]"
          },
          "metadata": {
            "needs_background": "light"
          }
        }
      ]
    },
    {
      "cell_type": "code",
      "source": [
        "from sklearn.metrics import accuracy_score, precision_score, recall_score,f1_score\n",
        "from sklearn.metrics import classification_report\n",
        "target_names = ['class 0', 'class 1']\n",
        "print('For Higher dimension')\n",
        "print('Accuracy score: ', accuracy_score(y_test, predictions))\n",
        "print(classification_report(y_test, predictions, target_names=target_names))"
      ],
      "metadata": {
        "colab": {
          "base_uri": "https://localhost:8080/"
        },
        "id": "3BsbcJ8Er2t8",
        "outputId": "b1eae3e3-1636-4791-c601-c2f886e9a35c"
      },
      "execution_count": null,
      "outputs": [
        {
          "output_type": "stream",
          "name": "stdout",
          "text": [
            "For Higher dimension\n",
            "Accuracy score:  0.7172131147540983\n",
            "              precision    recall  f1-score   support\n",
            "\n",
            "     class 0       0.75      0.83      0.79      2291\n",
            "     class 1       0.65      0.54      0.59      1369\n",
            "\n",
            "    accuracy                           0.72      3660\n",
            "   macro avg       0.70      0.68      0.69      3660\n",
            "weighted avg       0.71      0.72      0.71      3660\n",
            "\n"
          ]
        }
      ]
    },
    {
      "cell_type": "code",
      "source": [
        "from sklearn.metrics import accuracy_score, precision_score, recall_score,f1_score\n",
        "from sklearn.metrics import classification_report\n",
        "target_names = ['class 0', 'class 1']\n",
        "print('For Lower dimension')\n",
        "print('Accuracy score: ', accuracy_score(y_test1, predictions1))\n",
        "print(classification_report(y_test1, predictions1, target_names=target_names))"
      ],
      "metadata": {
        "id": "KmuAeCgpmslO",
        "colab": {
          "base_uri": "https://localhost:8080/"
        },
        "outputId": "a294c591-3064-4b39-dd68-944be229c08e"
      },
      "execution_count": null,
      "outputs": [
        {
          "output_type": "stream",
          "name": "stdout",
          "text": [
            "For Lower dimension\n",
            "Accuracy score:  0.7289617486338797\n",
            "              precision    recall  f1-score   support\n",
            "\n",
            "     class 0       0.75      0.85      0.80      2291\n",
            "     class 1       0.68      0.53      0.59      1369\n",
            "\n",
            "    accuracy                           0.73      3660\n",
            "   macro avg       0.71      0.69      0.69      3660\n",
            "weighted avg       0.72      0.73      0.72      3660\n",
            "\n"
          ]
        }
      ]
    },
    {
      "cell_type": "markdown",
      "source": [
        "The above analysis shows Naive Bayes provides better accuracy on a lower dimension matrix compared to higher dimension matrix."
      ],
      "metadata": {
        "id": "1RCr3m9W1NCB"
      }
    },
    {
      "cell_type": "markdown",
      "source": [
        "# Applying LDA for higher and lower dimension data"
      ],
      "metadata": {
        "id": "2eFJlqny07mL"
      }
    },
    {
      "cell_type": "code",
      "source": [
        "from sklearn.discriminant_analysis import LinearDiscriminantAnalysis \n",
        "model = LinearDiscriminantAnalysis()\n",
        "model.fit(X_train.toarray(), y_train)\n",
        "y_lda1=model.predict(X_test)"
      ],
      "metadata": {
        "id": "Gpo-At21iPYL"
      },
      "execution_count": null,
      "outputs": []
    },
    {
      "cell_type": "code",
      "source": [
        "from sklearn.discriminant_analysis import LinearDiscriminantAnalysis \n",
        "model = LinearDiscriminantAnalysis()\n",
        "model.fit(X_train1.toarray(), y_train1)\n",
        "y_lda2=model.predict(X_test1)"
      ],
      "metadata": {
        "id": "5XrJ-I3iijbb"
      },
      "execution_count": null,
      "outputs": []
    },
    {
      "cell_type": "markdown",
      "source": [
        "#Comparing the models on the basis of specificity, sensitivity and error"
      ],
      "metadata": {
        "id": "ISJKVV9a0_r5"
      }
    },
    {
      "cell_type": "markdown",
      "source": [
        " \\begin{aligned}{\\text{sensitivity}}&={\\frac {\\text{number of true positives}}{{\\text{number of true positives}}+{\\text{number of false negatives}}}}\\\\[8pt]\\\\\\end{aligned}"
      ],
      "metadata": {
        "id": "2-QfqXbp21c7"
      }
    },
    {
      "cell_type": "markdown",
      "source": [
        "\\begin{aligned}{\\text{specificity}}&={\\frac {\\text{number of true negatives}}{{\\text{number of true negatives}}+{\\text{number of false positives}}}}\\\\\\end{aligned}"
      ],
      "metadata": {
        "id": "cBirznPG283P"
      }
    },
    {
      "cell_type": "code",
      "source": [
        "tn, fp, fn, tp = confusion_matrix(y_test, predictions).ravel()\n",
        "tn1, fp1, fn1, tp1 = confusion_matrix(y_test1, predictions1).ravel()\n",
        "tn2, fp2, fn2, tp2 = confusion_matrix(y_test,y_lda1).ravel()\n",
        "tn3, fp3, fn3, tp3 = confusion_matrix(y_test1, y_lda2).ravel()"
      ],
      "metadata": {
        "id": "3ckTDIlCnXE5"
      },
      "execution_count": null,
      "outputs": []
    },
    {
      "cell_type": "code",
      "source": [
        "def Specificity(tn0,fp0,fn0,tp0):\n",
        "  spec= tn0 / (tn0+fp0)\n",
        "  return spec\n",
        "\n",
        "def Sensitivity(tn0,fp0,fn1,tp0):\n",
        "  sen=tp0/(tp0+fn1)\n",
        "  return sen\n",
        "\n",
        "def error(y_test0,pred):\n",
        "   err= 1-accuracy_score(y_test0,pred)\n",
        "   return err"
      ],
      "metadata": {
        "id": "sb8WhbRmo_i7"
      },
      "execution_count": null,
      "outputs": []
    },
    {
      "cell_type": "code",
      "source": [
        "print('For Naive Bayes - high dimension:')\n",
        "print('Specificity is: ', Specificity(tn, fp, fn, tp))\n",
        "print('Sensitivity is: ', Sensitivity(tn, fp, fn, tp))\n",
        "print('Error is: ', error(y_test, predictions))"
      ],
      "metadata": {
        "colab": {
          "base_uri": "https://localhost:8080/"
        },
        "id": "Ilh99WVgqNvu",
        "outputId": "8eeee3bb-5585-410a-aa9e-e1158a3d273a"
      },
      "execution_count": null,
      "outputs": [
        {
          "output_type": "stream",
          "name": "stdout",
          "text": [
            "For Naive Bayes - high dimension:\n",
            "Specificity is:  0.8254037538192929\n",
            "Sensitivity is:  0.5361577794010226\n",
            "Error is:  0.2827868852459017\n"
          ]
        }
      ]
    },
    {
      "cell_type": "code",
      "source": [
        "print('For LDA - high dimension:')\n",
        "print('Specificity is: ', Specificity(tn2, fp2, fn2, tp2))\n",
        "print('Sensitivity is: ', Sensitivity(tn2, fp2, fn2, tp2))\n",
        "print('Error is: ', error(y_test,y_lda1))"
      ],
      "metadata": {
        "colab": {
          "base_uri": "https://localhost:8080/"
        },
        "id": "juBdORdBq1eH",
        "outputId": "84eaf938-5b82-4d89-83da-e54bb30dabca"
      },
      "execution_count": null,
      "outputs": [
        {
          "output_type": "stream",
          "name": "stdout",
          "text": [
            "For LDA - high dimension:\n",
            "Specificity is:  0.8472282845918813\n",
            "Sensitivity is:  0.537618699780862\n",
            "Error is:  0.26857923497267755\n"
          ]
        }
      ]
    },
    {
      "cell_type": "code",
      "source": [
        "print('For Naive Bayes - low dimension:')\n",
        "print('Specificity is: ', Specificity(tn1, fp1, fn1, tp1))\n",
        "print('Sensitivity is: ', Sensitivity(tn1, fp1, fn1, tp1))\n",
        "print('Error is: ', error(y_test1, predictions1))\n"
      ],
      "metadata": {
        "colab": {
          "base_uri": "https://localhost:8080/"
        },
        "id": "hiJCJt9srU6B",
        "outputId": "68d6bf0f-ea08-40c0-e749-75cf163efc44"
      },
      "execution_count": null,
      "outputs": [
        {
          "output_type": "stream",
          "name": "stdout",
          "text": [
            "For Naive Bayes - low dimension:\n",
            "Specificity is:  0.8498472282845919\n",
            "Sensitivity is:  0.5266617969320672\n",
            "Error is:  0.27103825136612025\n"
          ]
        }
      ]
    },
    {
      "cell_type": "code",
      "source": [
        "print('For LDA - low dimension:')\n",
        "print('Specificity is: ', Specificity(tn3, fp3, fn3, tp3))\n",
        "print('Sensitivity is: ', Sensitivity(tn3, fp3, fn3, tp3))\n",
        "print('Error is: ', error(y_test,y_lda2))"
      ],
      "metadata": {
        "colab": {
          "base_uri": "https://localhost:8080/"
        },
        "id": "Zr_DRAFJriBM",
        "outputId": "15515097-d064-4ca3-d51a-24acefab7964"
      },
      "execution_count": null,
      "outputs": [
        {
          "output_type": "stream",
          "name": "stdout",
          "text": [
            "For LDA - low dimension:\n",
            "Specificity is:  0.8502837189000436\n",
            "Sensitivity is:  0.5573411249086925\n",
            "Error is:  0.25928961748633883\n"
          ]
        }
      ]
    },
    {
      "cell_type": "markdown",
      "source": [
        "Based on the above analysis we can infer the following:\n",
        "1. The sparsity of a lower dimension data is lower thus having lesser zero valued elements compared to a higher dimension matrix.\n",
        "2. The models show a higher accuracy on  lower dimension space as compared to a higher dimension space.\n",
        "3. The Specificity and Sensitivity of LDA on a lower dimension model is the highest compared to other models.\n",
        "4. Whereas the error is the least for LDA lower dimension model.\n",
        "5. Hence LDA can be considered as the best model for predicting the sentiment of the tweets in the above example."
      ],
      "metadata": {
        "id": "ORqKp-cw1IW1"
      }
    }
  ]
}